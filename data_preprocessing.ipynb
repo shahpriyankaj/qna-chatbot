{
 "cells": [
  {
   "cell_type": "code",
   "execution_count": null,
   "metadata": {},
   "outputs": [],
   "source": [
    "\n",
    "#import langchain_community\n",
    "from langchain_community.document_loaders import PyPDFLoader\n",
    "from langchain.text_splitter import RecursiveCharacterTextSplitter\n",
    "#import faiss\n",
    "#import numpy as np\n",
    "#from sentence_transformers import SentenceTransformer\n",
    "from langchain_community.embeddings import HuggingFaceEmbeddings\n",
    "from langchain_community.vectorstores import FAISS\n",
    "#from langchain.llms import LlamaCpp\n",
    "from langchain import PromptTemplate, LLMChain\n",
    "from langchain.callbacks.manager import CallbackManager\n",
    "from langchain.callbacks.streaming_stdout import (\n",
    "    StreamingStdOutCallbackHandler\n",
    ")\n",
    "from ctransformers import AutoModelForCausalLM\n",
    "#from langchain_community.llms import CTransformers\n",
    "#from langchain import HuggingFacePipeline\n",
    "from llama_cpp import Llama"
   ]
  },
  {
   "cell_type": "code",
   "execution_count": 11,
   "metadata": {},
   "outputs": [
    {
     "name": "stdout",
     "output_type": "stream",
     "text": [
      "['score', 'counts', 'totals', 'precisions', 'bp', 'sys_len', 'ref_len']\n",
      "100.0\n"
     ]
    }
   ],
   "source": [
    "import sacrebleu\n",
    "import evaluate\n",
    "\n",
    "# Reference and candidate sentences\n",
    "references = [\"The HER-2/neu oncogene encodes a protein involved in cell growth and division. Its amplification is linked to aggressive breast cancer forms.\"]\n",
    "candidates = [\"The HER-2/neu oncogene encodes a protein involved in cell growth and division. Its amplification is linked to aggressive breast cancer forms.\"]\n",
    "\n",
    "# Tokenizing (splitting sentences into words)\n",
    "#references = [[ref.split()] for ref in references]  # List of tokenized reference lists\n",
    "#candidates = [cand.split() for cand in candidates]  # List of tokenized candidate sentences\n",
    "\n",
    "# Compute BLEU score\n",
    "#bleu = sacrebleu.corpus_bleu(candidates, [references])\n",
    "\n",
    "#print(f\"BLEU Score: {bleu.score}\")\n",
    "sacrebleu = evaluate.load(\"sacrebleu\")\n",
    "results = sacrebleu.compute(predictions=candidates, references=references)\n",
    "print(list(results.keys()))\n",
    "print(round(results[\"score\"], 1))"
   ]
  },
  {
   "cell_type": "code",
   "execution_count": 9,
   "metadata": {},
   "outputs": [
    {
     "name": "stderr",
     "output_type": "stream",
     "text": [
      "Downloading builder script: 100%|██████████| 8.15k/8.15k [00:00<?, ?B/s]"
     ]
    },
    {
     "name": "stdout",
     "output_type": "stream",
     "text": [
      "['score', 'counts', 'totals', 'precisions', 'bp', 'sys_len', 'ref_len']\n",
      "100.0\n"
     ]
    },
    {
     "name": "stderr",
     "output_type": "stream",
     "text": [
      "\n"
     ]
    }
   ],
   "source": [
    "import evaluate\n",
    "predictions = [\"hello there general kenobi\", \"foo bar foobar\"]\n",
    "references = [[\"hello there general kenobi\", \"hello there !\"],[\"foo bar foobar\", \"foo bar foobar\"]]\n",
    "sacrebleu = evaluate.load(\"sacrebleu\")\n",
    "results = sacrebleu.compute(predictions=predictions, references=references)\n",
    "print(list(results.keys()))\n",
    "print(round(results[\"score\"], 1))"
   ]
  },
  {
   "cell_type": "code",
   "execution_count": 1,
   "metadata": {},
   "outputs": [
    {
     "name": "stderr",
     "output_type": "stream",
     "text": [
      "c:\\Priyanka\\job_application_2024\\humana\\qna-chatbot\\venv\\Lib\\site-packages\\tqdm\\auto.py:21: TqdmWarning: IProgress not found. Please update jupyter and ipywidgets. See https://ipywidgets.readthedocs.io/en/stable/user_install.html\n",
      "  from .autonotebook import tqdm as notebook_tqdm\n"
     ]
    }
   ],
   "source": [
    "from evaluation import testing_and_evaluation"
   ]
  },
  {
   "cell_type": "code",
   "execution_count": 2,
   "metadata": {},
   "outputs": [
    {
     "name": "stdout",
     "output_type": "stream",
     "text": [
      "                                           questions  \\\n",
      "0                    What is the HER-2/neu oncogene?   \n",
      "1  How does HER-2/neu amplification affect breast...   \n",
      "2  What percentage of breast cancer cases have HE...   \n",
      "3  Why is HER-2/neu amplification a critical biom...   \n",
      "4  Does HER-2/neu amplification impact the effect...   \n",
      "5  What other factors are used to predict breast ...   \n",
      "6  Can HER-2/neu amplification be detected in ear...   \n",
      "7  How does the study contribute to treatment str...   \n",
      "8  What is the survival rate for patients with HE...   \n",
      "9  How can HER-2/neu amplification impact treatme...   \n",
      "\n",
      "                                    golden_responses  \n",
      "0  The HER-2/neu oncogene encodes a protein invol...  \n",
      "1  Amplification of HER-2/neu is associated with ...  \n",
      "2  Approximately 30% of breast cancer cases exhib...  \n",
      "3  It helps predict the likelihood of relapse and...  \n",
      "4  Yes, tumors with HER-2/neu amplification are o...  \n",
      "5  Hormone receptor status, tumor size, lymph nod...  \n",
      "6  Yes, it can be detected through tests like flu...  \n",
      "7  It emphasizes the importance of HER-2/neu test...  \n",
      "8  Patients with HER-2/neu amplification generall...  \n",
      "9  Patients with HER-2/neu amplification may bene...  \n",
      "Evaluation Summary:\n",
      "ROUGE score: 0    {'rouge1': (1.0, 1.0, 1.0), 'rougeL': (1.0, 1....\n",
      "1    {'rouge1': (1.0, 1.0, 1.0), 'rougeL': (1.0, 1....\n",
      "2    {'rouge1': (1.0, 1.0, 1.0), 'rougeL': (1.0, 1....\n",
      "3    {'rouge1': (1.0, 1.0, 1.0), 'rougeL': (1.0, 1....\n",
      "4    {'rouge1': (1.0, 1.0, 1.0), 'rougeL': (1.0, 1....\n",
      "5    {'rouge1': (1.0, 1.0, 1.0), 'rougeL': (1.0, 1....\n",
      "6    {'rouge1': (1.0, 1.0, 1.0), 'rougeL': (1.0, 1....\n",
      "7    {'rouge1': (1.0, 1.0, 1.0), 'rougeL': (1.0, 1....\n",
      "8    {'rouge1': (1.0, 1.0, 1.0), 'rougeL': (1.0, 1....\n",
      "9    {'rouge1': (1.0, 1.0, 1.0), 'rougeL': (1.0, 1....\n",
      "Name: rouge_score, dtype: object\n",
      "BLEU score: 100.0\n",
      "Accuracy: 1.0\n",
      "Customer Satisfaction Score: 50.0%\n",
      "Average Response Time: 0.0%\n"
     ]
    }
   ],
   "source": [
    "testing_and_evaluation.main()"
   ]
  },
  {
   "cell_type": "code",
   "execution_count": 2,
   "metadata": {},
   "outputs": [
    {
     "name": "stdout",
     "output_type": "stream",
     "text": [
      "20\n"
     ]
    }
   ],
   "source": [
    "import multiprocessing\n",
    "print(multiprocessing.cpu_count())  # Number of CPU cores\n"
   ]
  },
  {
   "cell_type": "code",
   "execution_count": 1,
   "metadata": {},
   "outputs": [
    {
     "name": "stdout",
     "output_type": "stream",
     "text": [
      "data/SlamonetalSCIENCE1987.pdf\n"
     ]
    },
    {
     "name": "stderr",
     "output_type": "stream",
     "text": [
      "c:\\Priyanka\\job_application_2024\\humana\\qna-chatbot\\utils\\embeddings.py:11: LangChainDeprecationWarning: The class `HuggingFaceEmbeddings` was deprecated in LangChain 0.2.2 and will be removed in 1.0. An updated version of the class exists in the :class:`~langchain-huggingface package and should be used instead. To use it run `pip install -U :class:`~langchain-huggingface` and import as `from :class:`~langchain_huggingface import HuggingFaceEmbeddings``.\n",
      "  self.embeddings = HuggingFaceEmbeddings(\n",
      "c:\\Priyanka\\job_application_2024\\humana\\qna-chatbot\\venv\\Lib\\site-packages\\tqdm\\auto.py:21: TqdmWarning: IProgress not found. Please update jupyter and ipywidgets. See https://ipywidgets.readthedocs.io/en/stable/user_install.html\n",
      "  from .autonotebook import tqdm as notebook_tqdm\n"
     ]
    }
   ],
   "source": [
    "from data_pipeline import documents_processing\n",
    "documents_processing.documents_processing()"
   ]
  },
  {
   "cell_type": "code",
   "execution_count": 1,
   "metadata": {},
   "outputs": [],
   "source": [
    "from rag_pipeline import rag"
   ]
  },
  {
   "cell_type": "code",
   "execution_count": 2,
   "metadata": {},
   "outputs": [
    {
     "name": "stderr",
     "output_type": "stream",
     "text": [
      "c:\\Priyanka\\job_application_2024\\humana\\qna-chatbot\\utils\\embeddings.py:11: LangChainDeprecationWarning: The class `HuggingFaceEmbeddings` was deprecated in LangChain 0.2.2 and will be removed in 1.0. An updated version of the class exists in the :class:`~langchain-huggingface package and should be used instead. To use it run `pip install -U :class:`~langchain-huggingface` and import as `from :class:`~langchain_huggingface import HuggingFaceEmbeddings``.\n",
      "  self.embeddings = HuggingFaceEmbeddings(\n",
      "c:\\Priyanka\\job_application_2024\\humana\\qna-chatbot\\venv\\Lib\\site-packages\\tqdm\\auto.py:21: TqdmWarning: IProgress not found. Please update jupyter and ipywidgets. See https://ipywidgets.readthedocs.io/en/stable/user_install.html\n",
      "  from .autonotebook import tqdm as notebook_tqdm\n",
      "AVX = 1 | AVX_VNNI = 0 | AVX2 = 1 | AVX512 = 0 | AVX512_VBMI = 0 | AVX512_VNNI = 0 | FMA = 1 | NEON = 0 | ARM_FMA = 0 | F16C = 1 | FP16_VA = 0 | WASM_SIMD = 0 | BLAS = 0 | SSE3 = 1 | SSSE3 = 0 | VSX = 0 | \n"
     ]
    },
    {
     "name": "stdout",
     "output_type": "stream",
     "text": [
      "    The study investigates the relationship between HER2 amplification and various clinical parameters in breast cancer patients using data from a combined survey of 189 patients. Here is an overview of the findings based on Table 3:\n",
      "* Of the total number of patients, 91 (47%) were ER+, 45 (23%) were ER-, and 6\n"
     ]
    },
    {
     "data": {
      "text/plain": [
       "'The study investigates the relationship between HER2 amplification and various clinical parameters in breast cancer patients using data from a combined survey of 189 patients. Here is an overview of the findings based on Table 3:\\n* Of the total number of patients, 91 (47%) were ER+, 45 (23%) were ER-, and 6'"
      ]
     },
     "execution_count": 2,
     "metadata": {},
     "output_type": "execute_result"
    }
   ],
   "source": [
    "rag.RAG().generate_response(\"Summarize the document\")"
   ]
  },
  {
   "cell_type": "code",
   "execution_count": 19,
   "metadata": {},
   "outputs": [
    {
     "data": {
      "text/plain": [
       "[Document(metadata={'producer': 'Adobe PDF Library 7.0', 'creator': 'PyPDF', 'creationdate': '2007-01-15T15:29:22+00:00', 'moddate': '2008-03-03T11:28:12-08:00', 'rgid': 'PB:19364043_AS:101511233277955@1401213572478', 'source': 'data/SlamonetalSCIENCE1987.pdf', 'total_pages': 8, 'page': 0, 'page_label': '1'}, page_content='See discussions, stats, and author profiles for this publication at: https://www.researchgate.net/publication/19364043\\nSlamon DJ, Clark GM, Wong SG, Levin WJ, Ullrich A, McGuire WLHuman breast\\ncancer: correlation of relapse and survival with ampliﬁcation of the HER-2/neu\\noncogene. Science (Wash DC...\\nArticle\\xa0\\xa0in \\xa0\\xa0Science · February 1987\\nDOI: 10.1126/science.3798106\\xa0·\\xa0Source: PubMed\\nCITATIONS\\n9,957\\nREADS\\n28,923\\n6 authors, including:\\nGary Clark\\nGary Clark Statistical Consulting, LLC\\n363 PUBLICATIONS\\xa0\\xa0\\xa069,682 CITATIONS\\xa0\\xa0\\xa0\\nSEE PROFILE\\nSteven G Wong\\nUniversity of California, Los Angeles\\n24 PUBLICATIONS\\xa0\\xa0\\xa024,923 CITATIONS\\xa0\\xa0\\xa0\\nSEE PROFILE\\nWendy Levin\\nFate Therapeutics, Inc.\\n25 PUBLICATIONS\\xa0\\xa0\\xa017,929 CITATIONS\\xa0\\xa0\\xa0\\nSEE PROFILE\\nAll content following this page was uploaded by Gary Clark on 23 December 2013.\\nThe user has requested enhancement of the downloaded file.'),\n",
       " Document(metadata={'producer': 'Adobe PDF Library 7.0', 'creator': 'PyPDF', 'creationdate': '2007-01-15T15:29:22+00:00', 'moddate': '2008-03-03T11:28:12-08:00', 'rgid': 'PB:19364043_AS:101511233277955@1401213572478', 'source': 'data/SlamonetalSCIENCE1987.pdf', 'total_pages': 8, 'page': 1, 'page_label': '2'}, page_content='DOI: 10.1126/science.3798106 \\n, 177 (1987); 235Science\\n  et al.DJ Slamon,\\noncogene\\nsurvival with amplification of the HER-2/neu \\nHuman breast cancer: correlation of relapse and\\n www.sciencemag.org (this information is current as of January 15, 2007 ):\\nThe following resources related to this article are available online at\\n http://www.sciencemag.org\\nversion of this article at: \\n including high-resolution figures, can be found in the onlineUpdated information and services,\\n http://www.sciencemag.org#otherarticles\\n, 15 of which can be accessed for free: cites 37 articlesThis article \\n http://www.sciencemag.org#otherarticles\\n 99 articles hosted by HighWire Press; see: cited byThis article has been \\n http://www.sciencemag.org/help/about/permissions.dtl\\n in whole or in part can be found at: this article\\npermission to reproduce of this article or about obtaining reprintsInformation about obtaining \\nregistered trademark of AAAS. \\nc 2006 by the American Association for the Advancement of Science; all rights reserved. The title SCIENCE is a \\nCopyrightAmerican Association for the Advancement of Science, 1200 New York Avenue NW, Washington, DC 20005. \\nScience (print ISSN 0036-8075; online ISSN 1095-9203) is published weekly, except the last week in December, by the\\n on January 15, 2007 www.sciencemag.orgDownloaded from \\nBIOM 255 (Leffert) – Discussion Feb. 1, 2007'),\n",
       " Document(metadata={'producer': 'Adobe PDF Library 7.0', 'creator': 'PyPDF', 'creationdate': '2007-01-15T15:29:22+00:00', 'moddate': '2008-03-03T11:28:12-08:00', 'rgid': 'PB:19364043_AS:101511233277955@1401213572478', 'source': 'data/SlamonetalSCIENCE1987.pdf', 'total_pages': 8, 'page': 2, 'page_label': '3'}, page_content='Human BreastCancer: Correlationof\\nRelapse and Survival with Amplification\\nof theHER-2lneu Oncogene\\nDENNISJ.SLAMON,*GARYM.CLARK,STEVENG.WONG,WENDYJ.LEVIN,\\nAxELULLRICH,WILLiAML.McGuIRE\\nTheHER-2/neuoncoFeneisamemberoftheerbB-likeoncogenefamily,andaSrelatedto,butdistinctfirom,the\\nepidermalgrowthfactorreceptr.Thisgenehasbeen\\nshowntobeamplifiedihumanbrt cancercelllines.\\nInthecurrentstudy,alterationsofthegenein189primaryhumanbreastcancerswereinstigatedHER-2/neuwasfoundtobeamplifiedfrm2-to eaterthan20-\\nfoldin30%ofthetumors.Correlationofgeneamplifica-tionwithseveraldiseaseparameterswasevaluatedAm-\\nplificationoftheHER-2/neugenewasasignificantpre-\\ndictorofbothoverallsurvivalandtimetorelapsein\\npatientswithbreastcancer.Itretaineditssignificanceevenwhenadjustmentsweremadeforotherknownprognosticfactors.Moreover,HER-2/neuamplificationhadgreaterprognosticvaluethanmostcurrentlyusedprognosticfactors,incudinghormonal-receptorstatus,\\ninlymphnode-positivedisease.Thesedataindicatethat\\nthbisgenemaylayaroleinthebiologicbehaviorand/or\\npathogenesishumanbreastcancer.\\nHEEVIDENCELINKINGPROTO-ONCOGENESTOTHEINDUC-\\ntionormaintenanceofhumanmalignanciesislargelycir-\\ncumstantial,buthasbecomeincreasinglycompelling.This\\ncircumstantialevidenceisderivedfromstudiesofanimalmodels,\\ntumorcelllines,andactualhumantumors.Datafromanimalmodels\\nandcelllinesinclude:(i)sequencehomologybetweenhumanproto-\\noncogenesandtheviraloncogenesoftransformingretrovirusesthat\\nareknowntobetumorigenicinsomespecies(1,2);(ii)transfction\\nstudiesshowingthetransformingpotentialofproto-oncogenesm\\nNIH3T3cellsandprimaryembryofibroblasts(3-5);and(iii)the\\ncentralroleofcertainproto-oncogenesintumorigenesisbychronic\\ntransformingretrovirusessuchasavianleukosisvirus(6).Datafrom\\nhumantumorsinclude:(i)increasedexpressionofspecificproto-\\noncogenesinsomehumanmalignancies(7,8);(ii)localizationof\\nproto-oncogenesatornearthesiteofspecific,tumor-associated\\nchromosomaltranslocations(9);and(iii)amplificationofproto-\\noncogenesinsomehumantumors(10,11).\\nAdditionaldatalinkingproto-oncogenestocellgrowthistheir\\nexpressioninresponsetocertainproliferationsignals(12,13)and\\ntheirexpressionduringembryonicdevelopment(14,15).More\\ndirectevidencecomesfromthefactthat,ofthe20knownproto-\\noncogenes,threearerelatedtoagrowthfactororagrowthfactor\\nreceptor.Thesegenesincludec-sis,whichishomologoustothe\\n9jANUARYI987\\ntransforminggeneofthesimiansarcomavirusandisthe1Bchainof\\nplatelet-derivedgrowthfactor(PDGF)(16,17);c-fis,whichis\\nhomologoustothetransforminggeneofthefelinesarcomavirus\\nandiscloselyrelatedtothemacrophagecolony-stimulatingfactor\\nreceptor(CSF-1R)(18);andc-erbB,whichencodestheEGF\\nreceptor(EGFR)andishighlyhomologoustothetransforming\\ngeneoftheavianerythroblastosisvirus(19).Thetworeceptor-\\nrelatedproto-oncogenes,c-finsandc-erbB,aremembersofthe\\ntyrosine-specificproteinkinasefamilytowhichmanyproto-onco-\\ngenesbelong.\\nRecently,anoveltransforminggenewasidentifiedasaresultof\\ntransfctionstudieswithDNA fromchemicallyinducedratneu-\\nroglioblastomas(20).Thisgene,calledneu,wasshowntoberelated\\nto,butdistinctfrom,thec-erbBproto-oncogene(21).Bymeansof\\nv-erbBandhumanEGFRasprobestoscreenhumangenomicand\\ncomplementaryDNA(cDNA)libraries,twoothergroupsindepen-\\ndentlyisolatedhumanerbB-relatedgenesthattheycalledHER-2\\n(22)andc-erbB-2(23).Subsequentsequenceanalysisandchromo-\\nsomalmappingstudiesrevealedallthreegenes(neu,c-erbB-2,and\\nHER-2)tobethesame(22,24,25).Afourthgroup,alsousingv-\\nerbBasaprobe,identifiedthesamegeneinamammarycarcinoma\\ncellline,MAC 117,whereitwasfoundtobeamplifiedfive-toten-\\nfold(26).\\nThisgene,whichwewillcallHER-2/neu,encodesanewmember\\nofthetyrosinekinasefamily;andisdoselyrelatedto,butdistinct\\nfrom,theEGFRgene(22).HER-2/neudiffersfromEGFRinthatit\\nisfoundonbandq21ofchromosome17(22,24,25),ascompared\\ntobandpll.-p13ofchromosome7,wheretheEGFRgeneis\\nlocated(27).Also,theHER-2/neugenegeneratesamessenger\\nRNA(mRNA)of4.8kb(22),whichdiffersfromthe5.8-and10-\\nkbtransciptsfortheEGFRgene(28).Finally,theproteinencoded\\nbytheHER-2/neugeneis185,000daltons(21),ascomparedtothe\\n170,000-daltonproteinencodedbytheEGFRgene.Conversely,on\\nthebasisofsequencedata,HER-2/neuismorecloselyrelatedtothe\\nEGFRgenethantoothermembersofthetyrosinekinasefamily\\n(22).LiketheEGFRprotem,HER-2/neuhasanextracellular\\ndomain,atransmembranedomainthatincludestwocysteine-rich\\nrepeatdusters,andanintracellularkinasedomain(21),indicating\\nD.J.Slamon,S.G.Wong,andW.J.LevinareintheDivisionofHematology-Oncokogy,DepartmentofMedicineandJonssonComprehensiveCancerCenter,UCLASchoolofMedicine,LosAngcels,CA90024.G.AM.ClarkandW.L.McGuireareintheDivisionofOncology,DepartmentofMedicine,UniversityofTexasHealthScienceCcnteratSanAntonio,SanAntonio,TX78284.A.UtlrichisintheDeparmenetofMolecularBiology,Gcnentech,Inc.,SouthSanFrancisco,CA94080.\\n*Towhomcorrespondenceshouldbeaddressed.\\nARTICLES177\\n on January 15, 2007 www.sciencemag.orgDownloaded from \\nBIOM 255 (Leffert) – Discussion Feb. 1, 2007'),\n",
       " Document(metadata={'producer': 'Adobe PDF Library 7.0', 'creator': 'PyPDF', 'creationdate': '2007-01-15T15:29:22+00:00', 'moddate': '2008-03-03T11:28:12-08:00', 'rgid': 'PB:19364043_AS:101511233277955@1401213572478', 'source': 'data/SlamonetalSCIENCE1987.pdf', 'total_pages': 8, 'page': 3, 'page_label': '4'}, page_content='thatittooislikelytobeacellularreceptorforanasyetunidentified\\nligand.\\nAsaresultofthepublisheddatashowingamplificationofHER-\\n2/neuinahumanmammarycarcinomacellline,andaspartofan\\nongoingsurveyinourlaboratoryofproto-oncogeneabnormalities\\ninhumantumors,weevaluatedalterationsoftheHER-2/neugene\\ninalargeseriesofhumanprimarybreastcancers.Ourresultsshow\\nthatamplificationofthisgeneoccursrelativelyfrequentlyinbreast\\ncancer,andthatitisassociatedwithdiseaserelapseandoverall\\npatientsurvival.\\nFactorsthatareknowntobeimportantintheprognosisofbreast\\nmalignanciesinindividualpatientsinclude:sizeoftheprimary\\ntumor,stageofdiseaseatdiagnosis,hormonalreceptorstatus,and\\nnumberofaxillarylymphnodesinvolvedwithdisease(positive\\nnodes)(29).Thecurrentstudy,whichwasconductedintwoparts,\\ninvolvedtheevaluationoftissuefrom189separatebreastmalignan-\\nciesthatwerepartofabreastcancerstudyongoingattheUniversity\\nofTexas,SanAntonio.Thiscohortoftumorswasofinterest\\nbecauseconsiderableinformationwasavailableonthemajorityof\\nthespecimensincludingsizeoftheprimarytumor,estrogenrecep-\\ntorstatus,progesteronereceptorstatus,ageofpatient,diseasestage,\\nandstatusoftheaxillarylymphnodes.\\nIntheinitialsurvey,tissuefrom103primarybreastcancerswas\\nevaluatedforalterationsintheHER-2/neugene.DNA from\\nindividualtumorswaspreparedasdescribed(30),digestedwith\\nEcoRI,andsubjectedtoSouthernblotanalysiswitha32P-labeled\\nHER-2/neu-1probe,whichisknowntodetecta13-kbhybridizing\\nbandinhumanDNA (22).Examplesoftumorsfromtheinitial\\nsurveyareshowninFig.1.Ofthe103samplesexamined,19(18%)\\nshowedevidenceofHER-2/neugeneamplification.Thedegreeof\\namplificationinindividualcaseswasdeterminedbydilutionanalysis\\n(Fig.2A),aswellassoftlaserdensitometryscanning.Todetermine\\nthattheamountofDNA loadedineachlanewasequivalent,all\\nfilterswerewashedandrehybridizedwitha32P-labeledarginase\\ngeneprobe(31).Thisprobeidentifiesa15-kbhybridizingbandon\\nEcoRI-digestedhumanDNA,andwasselectedasacontrol\\nbecauseitmoreappropriatelyassessestherelativeamountand\\nFig.1.AnalysisofalterationsoftheHER-2/neu\\ngeneinhumanbreastcancer.Shownare79ofthe\\n189breasttumorsusedinthisanalysis.Tumors\\nwithasinglecopyofHER-2/neu:3,4,10to15,\\n20,23to25,27to29,31,38,42to46,48,49,\\n52,55,61,65,66,71,72,and74.Tumorswith\\ntwotofivecopiesofHER-2/neu:1,2,5,7,9,16,\\n17,19,21,22,32,35,36,47,50,54,56to58,\\n60,62,70,and75to77.Tumorswith5to20\\ncopiesofHER-2/neu:6,8,26,34,37,39to41,\\n51,53,63,64,67,69,73,and79.Tumorswith\\nmorethan20copiesofHER-2/neu:18,30,33,\\n59,68,and78.Examplesoftumors77to79have\\nrearrangementsintheHER-2/neugene.DNA\\nwasextractedfromtissuesanddigestedwithEco\\nRIasdescribed(30).Atotalof12,ugofEcoRI-\\ndigestedDNA wasloadedonto0.8%agarose\\ngels,separatedbyelectrophoresis,andtransferred\\nontonylonfilterpapers(Biodyne)(30).Allfilters\\nwerebakedinavacuumovenfor3hoursat80°C,\\nprehybridizedin5x SSC(standardsalinecitrate)\\ncontaining50%formamide,10%dextransulfate,\\n0.1%SDS,denaturedsalmonspermDNA(1mg/\\nmnl),and4x Denhardtssolutionfor12hours,\\nthenhybridizedinthesamesolutioncontaining\\n32P-labelednick-translatedHER-2probe(21)\\nspecificactivityof1x 108cpmpermicrogramof\\nDNA;2x 106cpm/ml.Hybridizationoccurred\\nat42°Cfor48hours,followedbywashingof\\nfiltersunderthefollowingconditionsinsucces-\\n178\\nTable1.AssociationbetweenHER-2lneuamplificationanddiseaseparame-\\ntersin103breasttumors.\\nNumberoftumors\\nFactor*Single2to5 5 to20 >20 TotalPt\\ncopy copies copies copies\\nHormonalreceptorstatus\\nER+ 53 2 9 1 65 0.99\\nER- 31 1 2 4 38\\nPgR+ 42 2 6 2 52 0.85\\nPgR- 42 1 5 3 51\\nTumorsize(centimate,r)\\nc<2 13 1 1 0 15 0.82\\n2-5 34 1 5 1 41\\n>5 17 1 2 2 22\\nUnknown 20 0 3 2 25\\nAgeatdiagnosis(yeats)\\nc50 21 1 2 1 25 0.83\\n>50 52 2 7 4 65\\nUnknown 11 0 2 0 13\\nNumberofpositiveIymhnodes\\n0 30 0 3 1 34 0.11\\n1-3 20 0 1 1 22\\n>3 17 2 4 2 25\\nUnknown 17 1 3 1 22\\n*Receptorstatuswasanalyzedasdescribed(39).ER,estrogenreceptor:+and- refer\\ntotheprcsenceorabsenceof:3fmolofreceptorpermilligramofprotein.PgR,progesteronereceptor:+and- referstothepresenceorabsenceof25fmolofreceptorpermilL:amofprotein.tStatisticalanaf,sesforcorrelationofHER-2/neuamplifi-cationwithdiscaseparameterswereperformedbythex2test.Pvalueswerecomputedaftercombiningthecaseswith5to20and>20copies.\\ntransferofhighmolecularweightspeciesthanaprobehybridizing\\nwithlowmolecularweightspecies,whichtransfermorereadilyon\\nSouthernblotting.Alllaneswereshowntocontainequivalent\\namountsofhighmolecularweightDNA (Fig.2B).Individual\\ntumorswereassignedtogroupscontainingasinglecopy,2to5\\ncopies,5to20copies,andgreaterthan20copiesoftheHER-2/neu\\ngene(Fig.1).Assignmentoftumorstothevariousgroupswasdone\\nu _ 0-S;0,-M;60S_tJ~~~~~~~~~~kbtN~~~~~~~~~~~~~~~~-12\\nsion:2xSSCfor20minutesatroomtempera-0.5xSSC,0.1%SDSat650C.Filterswerethen\\nture;twowashesof30minuteseachin2x SSC,exposedtoXAR-5x-rayfilm(Kodak)forautora-\\n0.1%SDSat65°C;onewashof30minutesin diography.\\nSCIENCE,VOL.235\\n on January 15, 2007 www.sciencemag.orgDownloaded from \\nBIOM 255 (Leffert) – Discussion Feb. 1, 2007'),\n",
       " Document(metadata={'producer': 'Adobe PDF Library 7.0', 'creator': 'PyPDF', 'creationdate': '2007-01-15T15:29:22+00:00', 'moddate': '2008-03-03T11:28:12-08:00', 'rgid': 'PB:19364043_AS:101511233277955@1401213572478', 'source': 'data/SlamonetalSCIENCE1987.pdf', 'total_pages': 8, 'page': 4, 'page_label': '5'}, page_content=\"Fig.2.(A)ExampleofdilutionalanalysistoassessdegreeofHER-2/neu\\ngeneamplification.Lanesa,g,k,andpwereloadedwith12,ugofEcoL1-\\ndigestedbreasttumorDNA.LaneaisDNAfromtumor31(Fig.1),which\\nrepresentsatumorwithasinglecopyoftheHER/2-neugene.Lanegis\\nDNA fromtumor33,whichrepresentsatumorwith>20copiesofthe\\nHER-2/neugene.Lanesbtofareserialdilutions(1:100,1:20,1:10,1:5,\\nand1:2,respectively)oftheDNA sampleinlaneg.LanekisDNA from\\ntumor35(Fig.1),whichrepresentsatumorcontainingtwotofivecopiesof\\ntheHER-2/neugene.Laneshtojareserialdilutions(1:10,1:5,and1:2,\\nrespectively)oftheDNAsampleinlanek.LanepisDNAfromtumor34\\n(Fig.1),whichrepresents atumorwith5to20copiesoftheHER-2/neu\\ngene.LanesItooareserialdilutions(1:20,1:10,1:5,and1:2,respective-\\nly)oftheDNAsampleinlanep.Thefilterwaspreparedandhybridizedwith\\na P-labeledHER-2probeasinFig.1.(B)Exampleofarginaseprobe\\nhybridizationtodemonstratethatequivalentamountsoftumorDNAwere\\nloadedintoeachlane.Rehybridizationoffiltercontaininglanes30to40\\n(Fig.1).Thefilterwasfirststrippedoflabelbywashinginabuffermadeup\\nof50%formamide,3xSSC,and0.1%SDSat65°Cfor20minutes,followingbythreesuccessivewashesof5minuteseachin0.1xSSCatroom\\ntemperature.FilterswereexposedovernightonXAR-5film(Kodak)to\\nensureremovalofallradioactiveprobe,thenrehybridizedasinFig.1witha\\n32P-labeledhumanarginasegeneprobe(31).\\ninablindedfashion,inthattheyweremadewithoutknowledgeof\\ndiseaseparameters.Analysisofthedataforassociationbetweengene\\namplificationandanumberofdiseaseparameterswasthenper-\\nformed.\\nOf103tumorsevaluatedintheinitialsurvey,therewasessentially\\nnocorrelationbetweengeneamplificationandestrogenreceptor\\nstatus,progesteronereceptorstatus,sizeoftumors,orageat\\ndiagnosis(Table1).However,whenanalysiswasperformedfor\\nassociationbetweenHER-2/neuamplificationandnumberofposi-\\ntivelymphnodes,atrendwasnoted.Thisanalysisshowedthat4/34\\n(11%)ofpatientswithnoinvolvednodes,2/20(10%)with1to3\\ninvolvednodes,and8/25(32%)with>3involvednodeshadgene\\namplification(P= 0.11).Ifthesedatawereexaminedbycomparing\\n0to3positivenodesversus>3positivenodes,thecorrelationwith\\ngeneamplificationbecamemoresignificant(P<0.05).Thus,there\\nwasasignificantincreaseinincidenceofHER-2/neugeneamplifica-\\ntioninpatientswith>3axillarylymphnodesinvolvedwithdisease.\\nAmultivariateregressionanalysistocorrelateHER-2/neuamplifica-\\ntionwithvariousdiseaseparametersidentifiedthenumberof\\npositivenodesastheonlysignificantfactor,eitheraloneorin\\ncombination,tocorrelatewithamplification.\\nThisinitialstudyindicatedthatitmightbepossibletodiscrimi-\\nnateamongnode-positivepatientsonthebasisofHER-2/neugene\\nA\\na bc d e f g h i j k I m n o p\\nB\\namplification.Itiswellknownthatthenumberofpositivenodesis\\nthebestprognosticfactorfordiseaserecurrenceandsurvivalin\\npatientswithbreastcancer(29).Given.thecorrelationbetween\\nnumberofnodespositiveandHER-2/neuamplification,onemight\\npredictthatamplificationofthisgenemightalsohavesome\\nprognosticvalue.No long-termfollow-updata,however,were\\navailableonthe103patientsanalyzedintheinitialstudy.Forthis\\nreason,asecondstudywasconductedon100breastcancersamples\\nfrompatientswithpositiveaxillarylymphnodes.Alloftheinforma-\\ntionavailableforthefirstgroupof103patientswasavailablefor\\nthesepatients.Inaddition,relapseandsurvivalinformationwas\\navailable,sincethesecaseshadamedianfollow-upof46months\\n(range24to86months).Ofthese100samples,86yieldedsufficient\\nDNA forstudy.AmplificationoftheHER-2/neugenewasmea-\\nsuredasintheinitialsurvey,andexamplesoftumorsfromthisstudy\\nareshown(Fig.1).Amplificationwasfoundin34/86(40%)of\\nthesepatients.Forthislargersampleofnode-positivepatients,\\nseveralstatisticallysignificantornearlysignificantrelationshipswere\\nobserved.Inagreementwiththepreliminarysurvey,therewasan\\nassociationbetweennumberofinvolvedlymphnodesandHER-2/\\nneuamplification(Table2).Inaddition,thepresenceofgene\\namplificationwascorrelatedwithestrogenreceptorstatusandsize\\nofprimarytumor(Table2).Together,thesetwosurveysyielded\\ndataon189patientsandtheassociationofHER-2/neuamplifica-\\ntionwithvariousdiseaseparametersinthecombinedgroupis\\nshowninTable3.\\nWhilethesecorrelationswereofinterest,thestrongrelationship\\n1.0-\\nFig.3.Actuarialcurveforrelapsein(A)node-\\npositivepatientswithnoamplificationversus\\nnode-positivepatientswithanyamplification(>2\\ncopies)ofHER-2/neuand(C)node-positivepa-\\ntientswithnoamplificationversusnode-positive\\npatientswithgreaterthan5copiesofHER-2/neu.\\nActuarialcurveforoverallsurvivalin(B)node-\\npositivepatientswithnoamplificationversus\\nnode-positivepatientswithanyamplification(>2\\ncopies)ofHER-2/neuand(D)node-positivepa-\\ntientswithnoamplificationversusnode-positive\\npatientswithgreaterthan5copiesofHER-2/neu.\\nActuarialcurvesforbothrelapseandoverallsur-\\nvivalwerecomputedbythemethodofKaplan\\nandMeier(44)andcomparedbythelogranktest\\n(42-44).\\n9JANUARYI987\\n>.0.8-\\n0.6-\\nCDton\\n,, 0.4-'I\\n30.2\\n0\\n1.0-\\nc 0.8-\\nI.\\n0 0.6-\\n00.\\nOX 0.4-\\n` 0.2-\\namplified(n=52)\\nAmplified(n=34)\\nA\\nNotamplified(n=52)\\nAmplified(n=34)\\nB\\n12 24 36 48 60 72 84\\nNotamplified(n=52)\\nAmplified(n=11)\\n>5copies\\nC\\nNotamplified(n=52)\\nAmplified(n=11)\\n>5copies\\nD\\n12 24 36 48 60 72 84\\nTime(months)\\nARTICLES 179\\n on January 15, 2007 www.sciencemag.orgDownloaded from \\nBIOM 255 (Leffert) – Discussion Feb. 1, 2007\"),\n",
       " Document(metadata={'producer': 'Adobe PDF Library 7.0', 'creator': 'PyPDF', 'creationdate': '2007-01-15T15:29:22+00:00', 'moddate': '2008-03-03T11:28:12-08:00', 'rgid': 'PB:19364043_AS:101511233277955@1401213572478', 'source': 'data/SlamonetalSCIENCE1987.pdf', 'total_pages': 8, 'page': 5, 'page_label': '6'}, page_content='betweenHER-2/neuamplificationandnodalstatus(P=0.002)\\nindicatedthatinformationonamplificationofthisgenemay\\ncorrelatewithdiseasebehavior;thatis,recurrencesandsurvival.To\\ntestthis,univariatesurvivalanalyseswereperformedinwhich\\namplificationwascomparedtorelapseandsurvivalinthispatient\\ngroup.Atotalof35patientshadarecurrenceofthedisease,and29\\nhaddiedatthetimeoftheanalyses.Mediantimestorelapseand\\ndeathwere62monthsand69months,respectively.Themedian\\nfollow-uptimeforpatientsstillalivewas47months,rangingfrom\\n24to86months.Atotalof71ofthe86patients(83%)received\\nsomeformoftherapyaftermastectomy:adjuvantsystemictherapy\\nalone,47%;adjuvantsystemictherapypluslocalradiation,19%;\\nandlocalradiationalone,17%.A strongandhighlystatistically\\nsignificantcorrelationwasfoundbetweenthedegreeofgene\\namplificationandbothtimetodiseaserelapse(P=<0.0001)and\\nsurvival(P= 0.0011)(Table4).Moreover,whencomparedin\\nunivariateanalysestootherparameters,amplificationofHER-2/neu\\nwasfoundtobesuperiortoallotherprognosticfactors,withthe\\nexceptionofthenumberofpositivenodes(whichitequaled)in\\npredictingtimetorelapseandoverallsurvivalinhumanbreast\\ncancer(Table4).TheassociationbetweenHER-2/neuamplification\\nandrelapseandsurvivalcanbeillustratedgraphicallyinactuarial\\nsurvivalcurves(Fig.3,A toD).Whiletherewasasomewhat\\nshortenedtimetorelapseandshorteroverallsurvivalinpatients\\nhavinganyamplificationoftheHER-2/neugeneintheirtumors\\n(Fig.3,A andB),thegreatestdifferenceswerefoundwhen\\ncomparingpatientswith>5copiesofthegenetothosewithout\\namplification(singlecopy)(Fig.3,CandD).Patientswithgreater\\nthanfivecopiesofHER-2/neuhadevenshorterdisease-freesurvival\\ntimes(P= 0.015)andoverallsurvivaltimes(P= 0.06)when\\ncomparedtopatientswithnoamplification.Thephenomenonof\\ngreatergenecopynumbercorrelatingwithaworseprognosishas\\nalsobeenseeninevaluationsofN-mycgeneamplificationinhuman\\nneuroblastomas(32).\\nTodetermineifamplificationofHER-2/neuwasindependentof\\notherknownprognosticfactorsinpredictingdiseasebehavior,\\nmultivariatesurvivalanalyseswereperformedonthe86node-\\npositivecases.Amplificationofthegenecontinuedtobeastrong\\nprognosticfactor,providingadditionalandindependentpredictive\\ninformationonbothtimetorelapseandoverallsurvivalinthese\\nTable2.AssQciationbetweenHER-2/neuamplificationanddisaseparame-\\ntersin86breasttumorsfromnode-positivepatients.\\nFactor*Single2to5 5to20 >20 Total Ptcopy copies copiescopies\\nHomonalreceptorstatu\\nER+ 38 21 5 1 65 0.05\\nER- 14 2 4 1 21\\nPgR+ 31 18 4 1 54 0.14\\nPgR- 21 5 5 1 32\\nTumorsize(centimeters)\\n<2 18 8 3 0 29 0.09\\n2-5 28 12 2 1 43\\n>5 6 3 4 1 14\\nAgeatdiagnosis(years)\\n50 16 12 6 1 35 0.06\\n>50 36 11 3 1 51\\nNumberofpositivelymphnodes\\n1-3 31 7 5 0 43 0.06>3 21 16 4 2 43\\nFig.4.ExampleofrehybridizationoffilterwithhumanEGFRprobe.Filters\\nwerestrippedasinFig.2B,andhybridizedwith32P-labeledhumanEGFR\\nprobe(28),asinFig.1.Shownarethelowermolecularweightbands\\nhybridizedwith32P-labeledEGFRprobeinfilter-containinglanes51to66\\n(Fig.1).Thebandsfromtoptobottomare2.8,2.2,and1.8kb,respectively.\\nLane52isanexampleofatumorshowingmarkedamplification(>50\\ncopies)oftheEGFRgene.\\npatients,evenwhenotherprognosticfactorsweretakeninto\\naccount(Table4).\\nRearrangementoftheHER-2/neugenewasrare.Ofthetotal189\\ntumorsevaluated,threeshowedevidenceofrearrangement,andin\\ntwoofthethreecases,therearrangementwasidentical(Fig.1,cases\\n77to79).Also,twooftherearrangedHER-2/neulociwere\\namplified(Fig.1,cases78and79).TheincidenceofHER-2/neu\\nrearrangementasdeterminedbyEcoRIdigestionwastoosmallto\\nattemptstatisticalcorrelations.\\nTodeterminewhetherthephenomenonofamplificationofHER-\\n21neuinbreastcancerextendedtorelatedgrowthfactorreceptors,\\nallfilterswereanalyzedwiththeEGFRprobe(Fig.4).Amplifica-\\ntionoftheEGFRgenewasfoundin4/189(2%)ofthecases,and\\nrearrangementoftheEGFRgenewasfoundinoneofthosefour\\ncases.TheincidenceofEGFRamplificationandrearrangementwas\\ntoosmalltoattemptstatisticalcorrelation.ComparisonofHER-2/\\nneuamplification(53/189or28%)withthatoftheEGFRgene\\nrevealstheincidenceoftheformertobe14timesgreaterthanthat\\nofthelatter,indicatingthatthephenomenonofgeneamplification\\nisnotageneraloneforarelatedtyrosinekinase-specificreceptorin\\nhumanbreastcancer.Moreover,studiesexaminingalterationsof\\ntwoothertyrosinekinase-specificproto-oncogenes,abiandfes,in\\nbreastcancerdidnotshowamplificationofthesegenes(33).\\nAlterationsofnon-tyrosinekinase-relatedproto-oncogenesinthese\\nTable3.AssociationbetweenHER-2/neuamplificationanddiseaseparame-\\ntersincombinedsurveys(189patients).\\nFactor*Single2to5 5to20 >20 Total PtCOPY copiescopiescopies\\nHormnalreceptorstatus\\nER+ 91 23 14 2 130 0.05\\nER- 45 3 6 5 59\\nPgR+ 73 20 10 3 106 0.06\\nPgR- 63 6 10 4 83\\nTumorsize(centimetes)\\ns<2 31 9 4 0 44 0.19\\n2-5 62 13 7 2 84\\n>5 23 4 6 3 36\\nUnknown 20 0 3 2 25\\nAgeatdiagnosis(years)\\n<50 37 13 8 2 60 0.11\\n>50 88 13 10 5 116\\nUnknown 11 0 2 0 13\\nNumberofpositivelymphnodes\\n0 30 0 3 1 34 0.002\\n1-3 51 7 6 1 65\\n>3 38 18 8 4 68\\nUnknown 17 1 3 1 22\\n*ERandPgRarcasdescribedinTable1. tStatisticalanalysesforcorrelationofHER-2/neuamplificationwithvariousdiseaseparameterswereperformcdbythex2test.Pvalueswerecomputedaftercombiningthecaseswith5to20and>20copies.\\nSCIENCE,VOL.235\\n*ERandPgRareasdescribedinTable1. tStatisticalanalysesforcorrelationof\\nHER-2/neuamplificationwithvariousdiseaseparameterswereperformedbythex2test.Pvalueswerccomputedaftercombiningthe5to20and>20cases,sincethere-\\nweresofewsamplesinthe>20group.\\ni8o\\n on January 15, 2007 www.sciencemag.orgDownloaded from \\nBIOM 255 (Leffert) – Discussion Feb. 1, 2007'),\n",
       " Document(metadata={'producer': 'Adobe PDF Library 7.0', 'creator': 'PyPDF', 'creationdate': '2007-01-15T15:29:22+00:00', 'moddate': '2008-03-03T11:28:12-08:00', 'rgid': 'PB:19364043_AS:101511233277955@1401213572478', 'source': 'data/SlamonetalSCIENCE1987.pdf', 'total_pages': 8, 'page': 6, 'page_label': '7'}, page_content='Table4.Univariateandmultivariateanalysescomparingdisese-freesurvival(relapse)andovrallsurvivaltoprognosticfactorsinnode-positivepatients.\\nUnivariate(P) Multivariate*Factor Survival Relapse Survival Relapse\\nNumberofpositivenodes 0.0001 0.0002 0.0003(0.0938±0.0256) 0.001(0.0849±0.Q266)HER-2/neu 0.0011 <0.0001 0.02 (0.0872±0.0388) 0.001(0.1378±0.0425)\\nLog(PgR) 0.05 0.05\\nTumorsizc 0.06 0.06\\nLog(ER) 0.15 0.10 0.03(-0.5158±0.2414)\\nAge 0.22 0.61\\n*CoxAspartialnonparametncregressionmodelwasusedtoevaluatethepredictivepowerofvariouscombinationsandinteractionsofprognosticfactorsinamultivariatemanner(42-44).ResultsareshownasP(regressioncoefficient±SE).\\ntumorshavebeenexamined.Inasurveyof121primarybreast\\nmalignancies,amplificationofthec-mycgenewasfoundin38\\n(32%)(34).Attemptstocorrelatec-mycgeneamplificationwith\\nstageofdisease,hormonalreceptorstatus,histopathologicgrade,or\\naxillarynodemetastasesshowednoassociation.Therewasastatisti-\\ncallysignificantassociationbetweenc-mycamplificationandagcat\\ndiagnosis>50yearsinagroupof95ofthesepatients(34).Dataon\\nrelapseandsurvivalwerenotpresentedinthisstudy;however,there\\nwasnocorrelationbetweenc-mycamplificationandnodalstatusto\\nindicateanassociationwithdiseasebehavior.\\nTheexactroleofvariousproto-oncogenesinthepathogenesisof\\nhumanmalignanciesremainsunclear.Onelineofevidenceimplicat-\\ningabnormalitiesofthesegenesinhumandiseaseisassociationof\\ntheiramplificationwithtumorprogressioninspecificcancers.The\\nN-mycgeneisfrequentlyamplifiedinhumanneuroblastomasand\\nneuroblastomacelllines(35,36).StudiesontheN-mycproto-\\noncogenewerethefirsttoshowadirectassociationbetween\\nabnormalitiesinaproto-oncogeneandclinicalbehaviorofahuman\\ntumor.N-mycamplificationandexpressioncorrelatebothwithstage\\nofdiseaseandoverallsurvivalinpatientswithneuroblastoma(10,\\n32,37).MoreoverthegreatertheN-mycgenecopynumber,the\\nworsethepatientprognosisforallstagesofthedisease(32).Taken\\ntogether,thesedataindicatearolefortheN-mycgeneinthe\\npathogenesisofneuroblastoma(32).\\nNeuroblastomaisarelativelyrarediseasewithanincidenceofone\\nper125,000children.Carcinomaofthebreast,however,isa\\ncommonmalignancyaffectingoneofevery13womenintheUnited\\nStates.Thereare119,000newcasesperyear,andapproximately\\n40,000womenwilldieofthediseasein1986(38).Current\\ntreatmentdecisionsforindividualpatientsarefrequentlybasedon\\nspecificprognosticparameters.Themajorprognosticfactorsfor\\nbreastcancerincludepresenceorabsenceoftumorintheaxillary\\nnodes,sizeoftheprimarytumor,andpresenceorabsenceof\\nhormonalreceptors(29).Thecurrentstudyindicatesthatamplifica-\\ntionoftheHER-2/neugeneisasignificantpredictorofbothoverall\\nsurvivalandtimetorelapseinnode-positivepatientswithbreast\\ncancer.Amplificationofthegeneretainsitsprognosticsignificance\\ninmultivariateanalysis,evenwhenadjustmentsaremadeforother\\nknownprognosticfactors.Moreover,amplificationofHER-2/neu\\nhasgreaterprognosticvaluethanmostcurrentlyusedprognostic\\nfictors,includingprogesteroneandestrogenreceptors,andis\\nequivalenttoandindependentofthebestknownprognosticator-\\nnumberofpositivelymphnodes.Finally,thedegreeofHER-2/neu\\namplificationappearstohaveaneffectonsurvival,withgreatercopy\\nnumberbeingassociatedwithaworseprognosis(Fig.3,CandD).\\nAsimilarphenomenonhasbeenobservedforN-mycgeneamplifica-\\ntioninhumanneuroblastoma(32).\\nThepotentialroleofHER-2/neuinthepathogenesisofbreast\\ncancerisunknown.LikeN-myc,thecorrelationofHER-2/neu\\namplficationwithdiseaseprogressionindicatesitmaybean\\nimportantgeneinthediseaseprocess.Theroleofothercell\\n9JANUARY1987\\nreceptorsinthebiologyofbreastcanceriswellestablished(29,39,\\n40).Itiseasytospeculatethatageneencodingaputativegrowth\\nfactorreceptor,whenexpressedininappropriateamounts,maygive\\nagrowthadvantagetothecellsexpressingit.Alternatively,alter-\\nationinthegeneproductitselfmayleadtoacriticalchangeinthe\\nreceptorprotein.A singlepointmutationinthetransmembrane\\ndomainoftheproteinencodedbytheratneuoncogeneappearsto\\nbeallthatisnecessaryforthegenetogaintransformingability(41).\\nWhetherthisorasimilaralterationisfoundintheamplifiedHER-\\n21neugeneinhumanbreastcancerwillrequiresequenceanalysisof\\nthehomologousregionintheamplifiedhumangene.Inaddition,\\nstudiesevaluatingtheexpressionofthisgeneattheRNAand/or\\nproteinlevelwillproveimportantindeterminingifHER-2/neu\\namplificationresultsinanexpectedincreasedgeneexpression.The\\nquestionofamplificationofHER-2/neuinmetastaticascompared\\ntoprimarylesionsinagivenpatientisimportant.Thecurrentstudy\\nutilizedonlyprimarybreasttumorsforanalyses.Itwouldbeof\\ninteresttodetermineifHER-2/neucopynumberisalteredasthe\\ntumormetastasizes.ArecentstudyevaluatingN-myccopynumber\\ninhumansmallcellcarcinomaofthelungshowednodifference\\nbetweenprimaryandmetastaticlesions(11).\\nTheinitialsurveyfromthecurrentstudyshowedthat15%of\\nbreastcancerpatientswithstageIdisease(node-negative)have\\nHER-2/ncuamplification.Unfortunately,nolong-termfollow-up\\ndatawereavailableforthesepatients.ThisstageIsettingmaybean\\nadditionalgroupinwhichHER-2/neumeasurementswillhavean\\nimpactinpredictingbiologicbehaviorofthetumor,andasaresult,\\nindesignoftreatmentstrategy.Finally,iftheHER-2/neugene\\nproductfunctionsasagrowthfactorreceptorthatplaysaroleinthe\\npathogenesisofbreastcancer,identificationofitsligandand\\ndevelopmentofspecificantagonistscouldhaveimportanttherapeu-\\nticimplications.\\nREFERENCESAND NOTES\\n1.J.M.Bishop,Annu.Rep.Biochm.52,301(1983).\\n2.H.E.Varmus,Annu.Rev.Genat.18,553(1984).\\n3.H.Land,L.F.Parada,R.A.Weinberg,Natur(Londn)304,596(1983).\\n4.H.E.Rulcy,ibid.,p.602.5.M.Schwab,H.E.Varmus,J.M.Bishop,ibid.316,160(1985).6.W.S.Hayward,B.G.Neel,S.M.Astn,ibid.290,475(1981).\\n7.D.J.Slamonaat.,Scence224,256(1984).\\n8.M.D.Erismanatal.,Mo.CeU.Biol.5,1969(1985).9.C.M.CroceandG.Klein,Sci.Am.252,54(March1985).10.G.M.Brodeuretat.,Scince224,1121(1984).\\n11.A.J.Wongatal.,ibid.233,461(1986).\\n12.J.Campisietal.,Cde33,357(1983).13.M.E.GreenbergandE.B.Zif,Nature(London)311,433(1984).14.R.Mulleretal.,ibid.299,640(1982).15.D.J.SlamonandM.J.Cline,Proc.Nad.Acad.Sci.U.S.A.81,7141(1984).16.M.D.WaterficldKal.,Natur(London)304,35(1983).\\n17.R.F.Doolittle,M.W.Hunkapiller,L. E.Hood,Sdence221,275(1983).18.C.J.Sherraal.,Cel41,665(1985).19.J.Downwardetal.,Nature(London)307,521(1984).\\n20.C.Shih,L.Padhy,M.Murray,R.A.Weinberg,ibid.290,261(1981).21.A.L.Schechteretal.,ibid.312,513(1984).\\n22.L.Coussensetal.,Sacc230,1132(1985).23.K.Semba,N.Kamata,K.Toyoshima,T.Yamamoto,Proc.Natl.Acad.Sci.U.S.A.82,6497(1985).\\nARTICLESi8i\\n on January 15, 2007 www.sciencemag.orgDownloaded from \\nBIOM 255 (Leffert) – Discussion Feb. 1, 2007'),\n",
       " Document(metadata={'producer': 'Adobe PDF Library 7.0', 'creator': 'PyPDF', 'creationdate': '2007-01-15T15:29:22+00:00', 'moddate': '2008-03-03T11:28:12-08:00', 'rgid': 'PB:19364043_AS:101511233277955@1401213572478', 'source': 'data/SlamonetalSCIENCE1987.pdf', 'total_pages': 8, 'page': 7, 'page_label': '8'}, page_content='24.A.L.Schechteretal.,Scee229,976(1985).\\n25.S.I.Fukushieetal.,Md.Cell.Bit.6,955(1985).\\n26.C.R.King,M.H.Kraus,S.A.Aaronson,Scenc229,974(1985).27.D.MeeakkanandM.Smith,Cytgenet.Cdl.Genet.37,71(1984).\\n28.A.Ulrichetal.,Natum(LI) 309,418(1984).29.G.M.Clarketal.,N.E,wl.J. Med.309,1343(1983).30.T.Maniatis,E.F.Fritch,J.Sambrook,MleularClni:A IabrtoyMaxxal,\\n(ColdSpringHarborLaboratory,ColdSpnrngHarbor,NY,1982),pp.282-285.\\n31.G.J.Dezikes,W.W.Grody,R.M.Kern,S.D. Caearbaum,Bioce.BEspy.Res.Commun.,in press.\\n32.R.C.Seegeretat.,N.El..Med.313,1111(1985).33.J.Yokotattat.,Scenwc231,261(1986).34.C.Escotetal.,Proc.Nat.AMad.Sc.U.S.A.83,4834(1986).35.M.Schwabetal.,Nature(Lodo) 305,245(1983).\\n36.N.E.Kohletat.,Cel35,359(1984).37.R.C.SeegerandD.Slamon,unpublisheddata.38.E.SilverbergandJ.Lubera,CACancerJ.Ce. 36,9(1986).39.K.B.Horwitz,W.L.McGuire,0. H.Pearson,A.Segaloff,Scenc189,726\\n(1975).40.W.L.McGuire,Semin.O#C.5,428(1978).41.C.I.Bargmann,M.C.Hung,K A.Weinberg,Cell45,649(1986).42.D.R.Cox,J.R.Stat.Soc.34,187(1972).\\n43.N.E.Breslow,I=t.Stat.Rep.43,45(1975).44.E.L.KaplanandP.Meier,J.Am.Stat.Aic.53,457(1958).45.SupportedbyU.S.PublicHealthServicegrants CA36827andCA30195anda\\ngrantfiomTritnBiosciences,Inc.Wethank D. Keith,L.Gordon,andW.Aftfor\\nirthnicalassistanceandDr.S.Cedarbaumforprovidingthehumanarginase\\nprobe.\\nThe AtomicStructureofMengo Virus\\nat3.0 A Resolution\\nMINGLuo,GERRITVRIEND*,GREGKAMER,IWONAMINOR,EDWARDARNOLD,\\nMICHAELG.ROSSMANN,ULRIKEBOEGE,DOUGLASG.SCRABA,GREGM.DuKE,\\nANNC.PALMENBERG\\nIhes ofMengovirus,a repesentatve member of\\nthecardiopicorn issubntially difent from the\\nstr and polioviue. Ihesructe of\\nMengo virus was sohledwiththeuseofhman rhinovirus\\n14 as an 8 A resolutionsural aproimation. Phase\\ninfirmationwas thn end to 3 resolutionbyuseof\\ntheicosahedralsymmetry. lhisp ure givespromise\\nthatmany other virussucs alsocan be de\\nwithoutthe use oftheisomorphousreplacementtech-\\nmque. Altioughtheorganiztion ofthe majorcapsid\\nproteinsVP1, VP2, and VP3 of Mengo virus isessntially\\nthesame asinrhino-andpoliovimses,largeinsertions\\nP OICORNAVIRUSES(1)COMPRISEA LARGE FAMILYOF SINGLE-\\nstrandedRNA-containinganimalviruses.Theyhavebeen\\ndassifiedintofourgeneraon thebasisofphysicalproperties\\nofthevirions:(i)cardioviruses,suchasencephalomyocarditisvirus\\n(EMCV),Theiler\\'smurineencephalitisvirus,andMengovirus;(ii)\\nenteroviruses,suchaspoliovirus,hepatitisAvirus,andCoxsackie\\nvirus;(iii)aphthoviruses,suchasfoot-and-mouthdiseaseviruses\\n(FMDV);and(iv)rhinoviruses,ofwhichthereareabout100\\nserotypes.Thephysiologicalconsequencesofpicomavirusinfection\\narehighlyvariablebecauseofdifferingtissuetropism,differingviral\\nstabilityinacidenvironment,anddifferingresponsesbyinfected\\nhostcells.Amongthemurinecardioviruses(2),forexample,Mengo\\nviruscanproducefatalencephalitis,a strainofEMCV cancause\\ndiabetes,andastrainofTheiler\\'sviruscancausechronicdemyelinat-\\ningdisease.\\nPicornavirionshaverelativemolecularmassofabout8.5x 106\\ndaltons,ofwhichabout30percentisRNA.Theviruspartidesare\\nsphericalwithan externaldiameterofabout300A.Thecoat\\nproteinsformashellwithicosahedralsymmenywith60protomers,\\n182\\nanddeletions,mostlyinVP1,radicallyalterthesurface\\nfeatures.Inparticular,theputativereceptorbinding\\n\"canyon\"ofhuman rhinovirus14becomesadeep\"pit\"in\\nMengovirusbecauseofpolypeptide insertionsinVP1\\nthatfillpartofthecanyon.The minor capsidpeptide,\\nVP4,iscompletelyintenal inMengo virus,butits\\nassociation withtheothercapsidproteis issubstantially\\ndifferentfromthatinrhino-orpoliovirus. However,its\\ncarboxyl terminus islocatedatapositionsimilartothatin\\nhuman rhinovirus 14and poliovirs, suggesting te same\\nautocatalytic ldeavageof VPO to VP4 andVP2 takes place\\nduring assembly inallthesepicornaviruses.\\neachcomposedofasinglecopyofVP1,VP2,VP3,andVP4(Fig.\\n1)withapproximaterelativemolecularmassesof34,000,30,000,\\n25,000,and7,000daltons,respectively.ForMengovirus,the\\nproteinsconsistof277,256,231,and70aminoacids,respectively.\\nOndegradingMengovirus,thevirionsseparateinto13.4Spen-\\ntamersandtheninto6Sprotomers(3,4)consistentwithstructural\\nobservations(5).Traditionally,thecardioviruscapsidproteinshave\\nboendesignateda,, , and8inorderofdecreasingsize;theVP1\\n(a),VP2 (1),VP3 (y),VP4 (6)nomencature isused in-thisartide\\ninordertofacilitatecomparisonwithotherpicomaviruses.Theviral\\nM.Luo,G.Vriend,G.Kamer,I.Minor,E.Amokl,andM.G.R an whodidtheaystlgbicanalysis,areintheDepar ofBiologicalSciences,PurdueUniver-\\nsity,WesLafayet,IN47907.U.BoegeandD.G.Scraba,whoproducedandpurifiedthe60milligramsofvirusused,areintheDepartmeofBiochemistry,UniversityofAlberta,Edmonton,AlbertaT6G2H7,Canada.G.M.DukeandA.C.Palmenberg,whodectminedhscqunceoftheviralRNA,areindtBiophysicalLaboratoryoftieGraduateSchool,Uni tyofWisoin,Maison,WI53706.\\n*Praentaddress:DeparmtofStrucuralChemistry,UniversityofGroningen,Nijcnborgh16,9747AGGro9inn,TheNetherlands.\\nSCIENCE,VOL.235\\n on January 15, 2007 www.sciencemag.orgDownloaded from \\nBIOM 255 (Leffert) – Discussion Feb. 1, 2007\\nView publication stats')]"
      ]
     },
     "execution_count": 19,
     "metadata": {},
     "output_type": "execute_result"
    }
   ],
   "source": [
    "loader = PyPDFLoader(r'data/SlamonetalSCIENCE1987.pdf')\n",
    "documents = loader.load()\n",
    "documents"
   ]
  },
  {
   "cell_type": "code",
   "execution_count": 114,
   "metadata": {},
   "outputs": [
    {
     "data": {
      "text/plain": [
       "[Document(metadata={'producer': 'Adobe PDF Library 7.0', 'creator': 'PyPDF', 'creationdate': '2007-01-15T15:29:22+00:00', 'moddate': '2008-03-03T11:28:12-08:00', 'rgid': 'PB:19364043_AS:101511233277955@1401213572478', 'source': 'data/SlamonetalSCIENCE1987.pdf', 'total_pages': 8, 'page': 0, 'page_label': '1'}, page_content='See discussions, stats, and author profiles for this publication at: https://www.researchgate.net/publication/19364043\\nSlamon DJ, Clark GM, Wong SG, Levin WJ, Ullrich A, McGuire WLHuman breast\\ncancer: correlation of relapse and survival with ampliﬁcation of the HER-2/neu\\noncogene. Science (Wash DC...\\nArticle\\xa0\\xa0in \\xa0\\xa0Science · February 1987\\nDOI: 10.1126/science.3798106\\xa0·\\xa0Source: PubMed\\nCITATIONS\\n9,957\\nREADS\\n28,923\\n6 authors, including:\\nGary Clark\\nGary Clark Statistical Consulting, LLC'),\n",
       " Document(metadata={'producer': 'Adobe PDF Library 7.0', 'creator': 'PyPDF', 'creationdate': '2007-01-15T15:29:22+00:00', 'moddate': '2008-03-03T11:28:12-08:00', 'rgid': 'PB:19364043_AS:101511233277955@1401213572478', 'source': 'data/SlamonetalSCIENCE1987.pdf', 'total_pages': 8, 'page': 0, 'page_label': '1'}, page_content='Gary Clark\\nGary Clark Statistical Consulting, LLC\\n363 PUBLICATIONS\\xa0\\xa0\\xa069,682 CITATIONS\\xa0\\xa0\\xa0\\nSEE PROFILE\\nSteven G Wong\\nUniversity of California, Los Angeles\\n24 PUBLICATIONS\\xa0\\xa0\\xa024,923 CITATIONS\\xa0\\xa0\\xa0\\nSEE PROFILE\\nWendy Levin\\nFate Therapeutics, Inc.\\n25 PUBLICATIONS\\xa0\\xa0\\xa017,929 CITATIONS\\xa0\\xa0\\xa0\\nSEE PROFILE\\nAll content following this page was uploaded by Gary Clark on 23 December 2013.\\nThe user has requested enhancement of the downloaded file.'),\n",
       " Document(metadata={'producer': 'Adobe PDF Library 7.0', 'creator': 'PyPDF', 'creationdate': '2007-01-15T15:29:22+00:00', 'moddate': '2008-03-03T11:28:12-08:00', 'rgid': 'PB:19364043_AS:101511233277955@1401213572478', 'source': 'data/SlamonetalSCIENCE1987.pdf', 'total_pages': 8, 'page': 1, 'page_label': '2'}, page_content='DOI: 10.1126/science.3798106 \\n, 177 (1987); 235Science\\n  et al.DJ Slamon,\\noncogene\\nsurvival with amplification of the HER-2/neu \\nHuman breast cancer: correlation of relapse and\\n www.sciencemag.org (this information is current as of January 15, 2007 ):\\nThe following resources related to this article are available online at\\n http://www.sciencemag.org\\nversion of this article at: \\n including high-resolution figures, can be found in the onlineUpdated information and services,'),\n",
       " Document(metadata={'producer': 'Adobe PDF Library 7.0', 'creator': 'PyPDF', 'creationdate': '2007-01-15T15:29:22+00:00', 'moddate': '2008-03-03T11:28:12-08:00', 'rgid': 'PB:19364043_AS:101511233277955@1401213572478', 'source': 'data/SlamonetalSCIENCE1987.pdf', 'total_pages': 8, 'page': 1, 'page_label': '2'}, page_content='http://www.sciencemag.org#otherarticles\\n, 15 of which can be accessed for free: cites 37 articlesThis article \\n http://www.sciencemag.org#otherarticles\\n 99 articles hosted by HighWire Press; see: cited byThis article has been \\n http://www.sciencemag.org/help/about/permissions.dtl\\n in whole or in part can be found at: this article\\npermission to reproduce of this article or about obtaining reprintsInformation about obtaining \\nregistered trademark of AAAS.'),\n",
       " Document(metadata={'producer': 'Adobe PDF Library 7.0', 'creator': 'PyPDF', 'creationdate': '2007-01-15T15:29:22+00:00', 'moddate': '2008-03-03T11:28:12-08:00', 'rgid': 'PB:19364043_AS:101511233277955@1401213572478', 'source': 'data/SlamonetalSCIENCE1987.pdf', 'total_pages': 8, 'page': 1, 'page_label': '2'}, page_content='registered trademark of AAAS. \\nc 2006 by the American Association for the Advancement of Science; all rights reserved. The title SCIENCE is a \\nCopyrightAmerican Association for the Advancement of Science, 1200 New York Avenue NW, Washington, DC 20005. \\nScience (print ISSN 0036-8075; online ISSN 1095-9203) is published weekly, except the last week in December, by the\\n on January 15, 2007 www.sciencemag.orgDownloaded from \\nBIOM 255 (Leffert) – Discussion Feb. 1, 2007'),\n",
       " Document(metadata={'producer': 'Adobe PDF Library 7.0', 'creator': 'PyPDF', 'creationdate': '2007-01-15T15:29:22+00:00', 'moddate': '2008-03-03T11:28:12-08:00', 'rgid': 'PB:19364043_AS:101511233277955@1401213572478', 'source': 'data/SlamonetalSCIENCE1987.pdf', 'total_pages': 8, 'page': 2, 'page_label': '3'}, page_content='Human BreastCancer: Correlationof\\nRelapse and Survival with Amplification\\nof theHER-2lneu Oncogene\\nDENNISJ.SLAMON,*GARYM.CLARK,STEVENG.WONG,WENDYJ.LEVIN,\\nAxELULLRICH,WILLiAML.McGuIRE\\nTheHER-2/neuoncoFeneisamemberoftheerbB-likeoncogenefamily,andaSrelatedto,butdistinctfirom,the\\nepidermalgrowthfactorreceptr.Thisgenehasbeen\\nshowntobeamplifiedihumanbrt cancercelllines.\\nInthecurrentstudy,alterationsofthegenein189primaryhumanbreastcancerswereinstigatedHER-2/neuwasfoundtobeamplifiedfrm2-to eaterthan20-'),\n",
       " Document(metadata={'producer': 'Adobe PDF Library 7.0', 'creator': 'PyPDF', 'creationdate': '2007-01-15T15:29:22+00:00', 'moddate': '2008-03-03T11:28:12-08:00', 'rgid': 'PB:19364043_AS:101511233277955@1401213572478', 'source': 'data/SlamonetalSCIENCE1987.pdf', 'total_pages': 8, 'page': 2, 'page_label': '3'}, page_content='foldin30%ofthetumors.Correlationofgeneamplifica-tionwithseveraldiseaseparameterswasevaluatedAm-\\nplificationoftheHER-2/neugenewasasignificantpre-\\ndictorofbothoverallsurvivalandtimetorelapsein\\npatientswithbreastcancer.Itretaineditssignificanceevenwhenadjustmentsweremadeforotherknownprognosticfactors.Moreover,HER-2/neuamplificationhadgreaterprognosticvaluethanmostcurrentlyusedprognosticfactors,incudinghormonal-receptorstatus,\\ninlymphnode-positivedisease.Thesedataindicatethat'),\n",
       " Document(metadata={'producer': 'Adobe PDF Library 7.0', 'creator': 'PyPDF', 'creationdate': '2007-01-15T15:29:22+00:00', 'moddate': '2008-03-03T11:28:12-08:00', 'rgid': 'PB:19364043_AS:101511233277955@1401213572478', 'source': 'data/SlamonetalSCIENCE1987.pdf', 'total_pages': 8, 'page': 2, 'page_label': '3'}, page_content='inlymphnode-positivedisease.Thesedataindicatethat\\nthbisgenemaylayaroleinthebiologicbehaviorand/or\\npathogenesishumanbreastcancer.\\nHEEVIDENCELINKINGPROTO-ONCOGENESTOTHEINDUC-\\ntionormaintenanceofhumanmalignanciesislargelycir-\\ncumstantial,buthasbecomeincreasinglycompelling.This\\ncircumstantialevidenceisderivedfromstudiesofanimalmodels,\\ntumorcelllines,andactualhumantumors.Datafromanimalmodels\\nandcelllinesinclude:(i)sequencehomologybetweenhumanproto-\\noncogenesandtheviraloncogenesoftransformingretrovirusesthat'),\n",
       " Document(metadata={'producer': 'Adobe PDF Library 7.0', 'creator': 'PyPDF', 'creationdate': '2007-01-15T15:29:22+00:00', 'moddate': '2008-03-03T11:28:12-08:00', 'rgid': 'PB:19364043_AS:101511233277955@1401213572478', 'source': 'data/SlamonetalSCIENCE1987.pdf', 'total_pages': 8, 'page': 2, 'page_label': '3'}, page_content='areknowntobetumorigenicinsomespecies(1,2);(ii)transfction\\nstudiesshowingthetransformingpotentialofproto-oncogenesm\\nNIH3T3cellsandprimaryembryofibroblasts(3-5);and(iii)the\\ncentralroleofcertainproto-oncogenesintumorigenesisbychronic\\ntransformingretrovirusessuchasavianleukosisvirus(6).Datafrom\\nhumantumorsinclude:(i)increasedexpressionofspecificproto-\\noncogenesinsomehumanmalignancies(7,8);(ii)localizationof\\nproto-oncogenesatornearthesiteofspecific,tumor-associated'),\n",
       " Document(metadata={'producer': 'Adobe PDF Library 7.0', 'creator': 'PyPDF', 'creationdate': '2007-01-15T15:29:22+00:00', 'moddate': '2008-03-03T11:28:12-08:00', 'rgid': 'PB:19364043_AS:101511233277955@1401213572478', 'source': 'data/SlamonetalSCIENCE1987.pdf', 'total_pages': 8, 'page': 2, 'page_label': '3'}, page_content='chromosomaltranslocations(9);and(iii)amplificationofproto-\\noncogenesinsomehumantumors(10,11).\\nAdditionaldatalinkingproto-oncogenestocellgrowthistheir\\nexpressioninresponsetocertainproliferationsignals(12,13)and\\ntheirexpressionduringembryonicdevelopment(14,15).More\\ndirectevidencecomesfromthefactthat,ofthe20knownproto-\\noncogenes,threearerelatedtoagrowthfactororagrowthfactor\\nreceptor.Thesegenesincludec-sis,whichishomologoustothe\\n9jANUARYI987\\ntransforminggeneofthesimiansarcomavirusandisthe1Bchainof'),\n",
       " Document(metadata={'producer': 'Adobe PDF Library 7.0', 'creator': 'PyPDF', 'creationdate': '2007-01-15T15:29:22+00:00', 'moddate': '2008-03-03T11:28:12-08:00', 'rgid': 'PB:19364043_AS:101511233277955@1401213572478', 'source': 'data/SlamonetalSCIENCE1987.pdf', 'total_pages': 8, 'page': 2, 'page_label': '3'}, page_content='platelet-derivedgrowthfactor(PDGF)(16,17);c-fis,whichis\\nhomologoustothetransforminggeneofthefelinesarcomavirus\\nandiscloselyrelatedtothemacrophagecolony-stimulatingfactor\\nreceptor(CSF-1R)(18);andc-erbB,whichencodestheEGF\\nreceptor(EGFR)andishighlyhomologoustothetransforming\\ngeneoftheavianerythroblastosisvirus(19).Thetworeceptor-\\nrelatedproto-oncogenes,c-finsandc-erbB,aremembersofthe\\ntyrosine-specificproteinkinasefamilytowhichmanyproto-onco-\\ngenesbelong.\\nRecently,anoveltransforminggenewasidentifiedasaresultof'),\n",
       " Document(metadata={'producer': 'Adobe PDF Library 7.0', 'creator': 'PyPDF', 'creationdate': '2007-01-15T15:29:22+00:00', 'moddate': '2008-03-03T11:28:12-08:00', 'rgid': 'PB:19364043_AS:101511233277955@1401213572478', 'source': 'data/SlamonetalSCIENCE1987.pdf', 'total_pages': 8, 'page': 2, 'page_label': '3'}, page_content='transfctionstudieswithDNA fromchemicallyinducedratneu-\\nroglioblastomas(20).Thisgene,calledneu,wasshowntoberelated\\nto,butdistinctfrom,thec-erbBproto-oncogene(21).Bymeansof\\nv-erbBandhumanEGFRasprobestoscreenhumangenomicand\\ncomplementaryDNA(cDNA)libraries,twoothergroupsindepen-\\ndentlyisolatedhumanerbB-relatedgenesthattheycalledHER-2\\n(22)andc-erbB-2(23).Subsequentsequenceanalysisandchromo-\\nsomalmappingstudiesrevealedallthreegenes(neu,c-erbB-2,and\\nHER-2)tobethesame(22,24,25).Afourthgroup,alsousingv-'),\n",
       " Document(metadata={'producer': 'Adobe PDF Library 7.0', 'creator': 'PyPDF', 'creationdate': '2007-01-15T15:29:22+00:00', 'moddate': '2008-03-03T11:28:12-08:00', 'rgid': 'PB:19364043_AS:101511233277955@1401213572478', 'source': 'data/SlamonetalSCIENCE1987.pdf', 'total_pages': 8, 'page': 2, 'page_label': '3'}, page_content='erbBasaprobe,identifiedthesamegeneinamammarycarcinoma\\ncellline,MAC 117,whereitwasfoundtobeamplifiedfive-toten-\\nfold(26).\\nThisgene,whichwewillcallHER-2/neu,encodesanewmember\\nofthetyrosinekinasefamily;andisdoselyrelatedto,butdistinct\\nfrom,theEGFRgene(22).HER-2/neudiffersfromEGFRinthatit\\nisfoundonbandq21ofchromosome17(22,24,25),ascompared\\ntobandpll.-p13ofchromosome7,wheretheEGFRgeneis\\nlocated(27).Also,theHER-2/neugenegeneratesamessenger\\nRNA(mRNA)of4.8kb(22),whichdiffersfromthe5.8-and10-'),\n",
       " Document(metadata={'producer': 'Adobe PDF Library 7.0', 'creator': 'PyPDF', 'creationdate': '2007-01-15T15:29:22+00:00', 'moddate': '2008-03-03T11:28:12-08:00', 'rgid': 'PB:19364043_AS:101511233277955@1401213572478', 'source': 'data/SlamonetalSCIENCE1987.pdf', 'total_pages': 8, 'page': 2, 'page_label': '3'}, page_content='kbtransciptsfortheEGFRgene(28).Finally,theproteinencoded\\nbytheHER-2/neugeneis185,000daltons(21),ascomparedtothe\\n170,000-daltonproteinencodedbytheEGFRgene.Conversely,on\\nthebasisofsequencedata,HER-2/neuismorecloselyrelatedtothe\\nEGFRgenethantoothermembersofthetyrosinekinasefamily\\n(22).LiketheEGFRprotem,HER-2/neuhasanextracellular\\ndomain,atransmembranedomainthatincludestwocysteine-rich\\nrepeatdusters,andanintracellularkinasedomain(21),indicating'),\n",
       " Document(metadata={'producer': 'Adobe PDF Library 7.0', 'creator': 'PyPDF', 'creationdate': '2007-01-15T15:29:22+00:00', 'moddate': '2008-03-03T11:28:12-08:00', 'rgid': 'PB:19364043_AS:101511233277955@1401213572478', 'source': 'data/SlamonetalSCIENCE1987.pdf', 'total_pages': 8, 'page': 2, 'page_label': '3'}, page_content='D.J.Slamon,S.G.Wong,andW.J.LevinareintheDivisionofHematology-Oncokogy,DepartmentofMedicineandJonssonComprehensiveCancerCenter,UCLASchoolofMedicine,LosAngcels,CA90024.G.AM.ClarkandW.L.McGuireareintheDivisionofOncology,DepartmentofMedicine,UniversityofTexasHealthScienceCcnteratSanAntonio,SanAntonio,TX78284.A.UtlrichisintheDeparmenetofMolecularBiology,Gcnentech,Inc.,SouthSanFrancisco,CA94080.\\n*Towhomcorrespondenceshouldbeaddressed.\\nARTICLES177\\n on January 15, 2007 www.sciencemag.orgDownloaded from'),\n",
       " Document(metadata={'producer': 'Adobe PDF Library 7.0', 'creator': 'PyPDF', 'creationdate': '2007-01-15T15:29:22+00:00', 'moddate': '2008-03-03T11:28:12-08:00', 'rgid': 'PB:19364043_AS:101511233277955@1401213572478', 'source': 'data/SlamonetalSCIENCE1987.pdf', 'total_pages': 8, 'page': 2, 'page_label': '3'}, page_content='BIOM 255 (Leffert) – Discussion Feb. 1, 2007'),\n",
       " Document(metadata={'producer': 'Adobe PDF Library 7.0', 'creator': 'PyPDF', 'creationdate': '2007-01-15T15:29:22+00:00', 'moddate': '2008-03-03T11:28:12-08:00', 'rgid': 'PB:19364043_AS:101511233277955@1401213572478', 'source': 'data/SlamonetalSCIENCE1987.pdf', 'total_pages': 8, 'page': 3, 'page_label': '4'}, page_content='thatittooislikelytobeacellularreceptorforanasyetunidentified\\nligand.\\nAsaresultofthepublisheddatashowingamplificationofHER-\\n2/neuinahumanmammarycarcinomacellline,andaspartofan\\nongoingsurveyinourlaboratoryofproto-oncogeneabnormalities\\ninhumantumors,weevaluatedalterationsoftheHER-2/neugene\\ninalargeseriesofhumanprimarybreastcancers.Ourresultsshow\\nthatamplificationofthisgeneoccursrelativelyfrequentlyinbreast\\ncancer,andthatitisassociatedwithdiseaserelapseandoverall\\npatientsurvival.'),\n",
       " Document(metadata={'producer': 'Adobe PDF Library 7.0', 'creator': 'PyPDF', 'creationdate': '2007-01-15T15:29:22+00:00', 'moddate': '2008-03-03T11:28:12-08:00', 'rgid': 'PB:19364043_AS:101511233277955@1401213572478', 'source': 'data/SlamonetalSCIENCE1987.pdf', 'total_pages': 8, 'page': 3, 'page_label': '4'}, page_content='patientsurvival.\\nFactorsthatareknowntobeimportantintheprognosisofbreast\\nmalignanciesinindividualpatientsinclude:sizeoftheprimary\\ntumor,stageofdiseaseatdiagnosis,hormonalreceptorstatus,and\\nnumberofaxillarylymphnodesinvolvedwithdisease(positive\\nnodes)(29).Thecurrentstudy,whichwasconductedintwoparts,\\ninvolvedtheevaluationoftissuefrom189separatebreastmalignan-\\nciesthatwerepartofabreastcancerstudyongoingattheUniversity\\nofTexas,SanAntonio.Thiscohortoftumorswasofinterest'),\n",
       " Document(metadata={'producer': 'Adobe PDF Library 7.0', 'creator': 'PyPDF', 'creationdate': '2007-01-15T15:29:22+00:00', 'moddate': '2008-03-03T11:28:12-08:00', 'rgid': 'PB:19364043_AS:101511233277955@1401213572478', 'source': 'data/SlamonetalSCIENCE1987.pdf', 'total_pages': 8, 'page': 3, 'page_label': '4'}, page_content='becauseconsiderableinformationwasavailableonthemajorityof\\nthespecimensincludingsizeoftheprimarytumor,estrogenrecep-\\ntorstatus,progesteronereceptorstatus,ageofpatient,diseasestage,\\nandstatusoftheaxillarylymphnodes.\\nIntheinitialsurvey,tissuefrom103primarybreastcancerswas\\nevaluatedforalterationsintheHER-2/neugene.DNA from\\nindividualtumorswaspreparedasdescribed(30),digestedwith\\nEcoRI,andsubjectedtoSouthernblotanalysiswitha32P-labeled\\nHER-2/neu-1probe,whichisknowntodetecta13-kbhybridizing'),\n",
       " Document(metadata={'producer': 'Adobe PDF Library 7.0', 'creator': 'PyPDF', 'creationdate': '2007-01-15T15:29:22+00:00', 'moddate': '2008-03-03T11:28:12-08:00', 'rgid': 'PB:19364043_AS:101511233277955@1401213572478', 'source': 'data/SlamonetalSCIENCE1987.pdf', 'total_pages': 8, 'page': 3, 'page_label': '4'}, page_content='bandinhumanDNA (22).Examplesoftumorsfromtheinitial\\nsurveyareshowninFig.1.Ofthe103samplesexamined,19(18%)\\nshowedevidenceofHER-2/neugeneamplification.Thedegreeof\\namplificationinindividualcaseswasdeterminedbydilutionanalysis\\n(Fig.2A),aswellassoftlaserdensitometryscanning.Todetermine\\nthattheamountofDNA loadedineachlanewasequivalent,all\\nfilterswerewashedandrehybridizedwitha32P-labeledarginase\\ngeneprobe(31).Thisprobeidentifiesa15-kbhybridizingbandon\\nEcoRI-digestedhumanDNA,andwasselectedasacontrol'),\n",
       " Document(metadata={'producer': 'Adobe PDF Library 7.0', 'creator': 'PyPDF', 'creationdate': '2007-01-15T15:29:22+00:00', 'moddate': '2008-03-03T11:28:12-08:00', 'rgid': 'PB:19364043_AS:101511233277955@1401213572478', 'source': 'data/SlamonetalSCIENCE1987.pdf', 'total_pages': 8, 'page': 3, 'page_label': '4'}, page_content='EcoRI-digestedhumanDNA,andwasselectedasacontrol\\nbecauseitmoreappropriatelyassessestherelativeamountand\\nFig.1.AnalysisofalterationsoftheHER-2/neu\\ngeneinhumanbreastcancer.Shownare79ofthe\\n189breasttumorsusedinthisanalysis.Tumors\\nwithasinglecopyofHER-2/neu:3,4,10to15,\\n20,23to25,27to29,31,38,42to46,48,49,\\n52,55,61,65,66,71,72,and74.Tumorswith\\ntwotofivecopiesofHER-2/neu:1,2,5,7,9,16,\\n17,19,21,22,32,35,36,47,50,54,56to58,\\n60,62,70,and75to77.Tumorswith5to20\\ncopiesofHER-2/neu:6,8,26,34,37,39to41,'),\n",
       " Document(metadata={'producer': 'Adobe PDF Library 7.0', 'creator': 'PyPDF', 'creationdate': '2007-01-15T15:29:22+00:00', 'moddate': '2008-03-03T11:28:12-08:00', 'rgid': 'PB:19364043_AS:101511233277955@1401213572478', 'source': 'data/SlamonetalSCIENCE1987.pdf', 'total_pages': 8, 'page': 3, 'page_label': '4'}, page_content='copiesofHER-2/neu:6,8,26,34,37,39to41,\\n51,53,63,64,67,69,73,and79.Tumorswith\\nmorethan20copiesofHER-2/neu:18,30,33,\\n59,68,and78.Examplesoftumors77to79have\\nrearrangementsintheHER-2/neugene.DNA\\nwasextractedfromtissuesanddigestedwithEco\\nRIasdescribed(30).Atotalof12,ugofEcoRI-\\ndigestedDNA wasloadedonto0.8%agarose\\ngels,separatedbyelectrophoresis,andtransferred\\nontonylonfilterpapers(Biodyne)(30).Allfilters\\nwerebakedinavacuumovenfor3hoursat80°C,\\nprehybridizedin5x SSC(standardsalinecitrate)'),\n",
       " Document(metadata={'producer': 'Adobe PDF Library 7.0', 'creator': 'PyPDF', 'creationdate': '2007-01-15T15:29:22+00:00', 'moddate': '2008-03-03T11:28:12-08:00', 'rgid': 'PB:19364043_AS:101511233277955@1401213572478', 'source': 'data/SlamonetalSCIENCE1987.pdf', 'total_pages': 8, 'page': 3, 'page_label': '4'}, page_content='prehybridizedin5x SSC(standardsalinecitrate)\\ncontaining50%formamide,10%dextransulfate,\\n0.1%SDS,denaturedsalmonspermDNA(1mg/\\nmnl),and4x Denhardtssolutionfor12hours,\\nthenhybridizedinthesamesolutioncontaining\\n32P-labelednick-translatedHER-2probe(21)\\nspecificactivityof1x 108cpmpermicrogramof\\nDNA;2x 106cpm/ml.Hybridizationoccurred\\nat42°Cfor48hours,followedbywashingof\\nfiltersunderthefollowingconditionsinsucces-\\n178\\nTable1.AssociationbetweenHER-2lneuamplificationanddiseaseparame-\\ntersin103breasttumors.'),\n",
       " Document(metadata={'producer': 'Adobe PDF Library 7.0', 'creator': 'PyPDF', 'creationdate': '2007-01-15T15:29:22+00:00', 'moddate': '2008-03-03T11:28:12-08:00', 'rgid': 'PB:19364043_AS:101511233277955@1401213572478', 'source': 'data/SlamonetalSCIENCE1987.pdf', 'total_pages': 8, 'page': 3, 'page_label': '4'}, page_content='tersin103breasttumors.\\nNumberoftumors\\nFactor*Single2to5 5 to20 >20 TotalPt\\ncopy copies copies copies\\nHormonalreceptorstatus\\nER+ 53 2 9 1 65 0.99\\nER- 31 1 2 4 38\\nPgR+ 42 2 6 2 52 0.85\\nPgR- 42 1 5 3 51\\nTumorsize(centimate,r)\\nc<2 13 1 1 0 15 0.82\\n2-5 34 1 5 1 41\\n>5 17 1 2 2 22\\nUnknown 20 0 3 2 25\\nAgeatdiagnosis(yeats)\\nc50 21 1 2 1 25 0.83\\n>50 52 2 7 4 65\\nUnknown 11 0 2 0 13\\nNumberofpositiveIymhnodes\\n0 30 0 3 1 34 0.11\\n1-3 20 0 1 1 22\\n>3 17 2 4 2 25\\nUnknown 17 1 3 1 22'),\n",
       " Document(metadata={'producer': 'Adobe PDF Library 7.0', 'creator': 'PyPDF', 'creationdate': '2007-01-15T15:29:22+00:00', 'moddate': '2008-03-03T11:28:12-08:00', 'rgid': 'PB:19364043_AS:101511233277955@1401213572478', 'source': 'data/SlamonetalSCIENCE1987.pdf', 'total_pages': 8, 'page': 3, 'page_label': '4'}, page_content='>3 17 2 4 2 25\\nUnknown 17 1 3 1 22\\n*Receptorstatuswasanalyzedasdescribed(39).ER,estrogenreceptor:+and- refer\\ntotheprcsenceorabsenceof:3fmolofreceptorpermilligramofprotein.PgR,progesteronereceptor:+and- referstothepresenceorabsenceof25fmolofreceptorpermilL:amofprotein.tStatisticalanaf,sesforcorrelationofHER-2/neuamplifi-cationwithdiscaseparameterswereperformedbythex2test.Pvalueswerecomputedaftercombiningthecaseswith5to20and>20copies.\\ntransferofhighmolecularweightspeciesthanaprobehybridizing'),\n",
       " Document(metadata={'producer': 'Adobe PDF Library 7.0', 'creator': 'PyPDF', 'creationdate': '2007-01-15T15:29:22+00:00', 'moddate': '2008-03-03T11:28:12-08:00', 'rgid': 'PB:19364043_AS:101511233277955@1401213572478', 'source': 'data/SlamonetalSCIENCE1987.pdf', 'total_pages': 8, 'page': 3, 'page_label': '4'}, page_content='withlowmolecularweightspecies,whichtransfermorereadilyon\\nSouthernblotting.Alllaneswereshowntocontainequivalent\\namountsofhighmolecularweightDNA (Fig.2B).Individual\\ntumorswereassignedtogroupscontainingasinglecopy,2to5\\ncopies,5to20copies,andgreaterthan20copiesoftheHER-2/neu\\ngene(Fig.1).Assignmentoftumorstothevariousgroupswasdone\\nu _ 0-S;0,-M;60S_tJ~~~~~~~~~~kbtN~~~~~~~~~~~~~~~~-12\\nsion:2xSSCfor20minutesatroomtempera-0.5xSSC,0.1%SDSat650C.Filterswerethen'),\n",
       " Document(metadata={'producer': 'Adobe PDF Library 7.0', 'creator': 'PyPDF', 'creationdate': '2007-01-15T15:29:22+00:00', 'moddate': '2008-03-03T11:28:12-08:00', 'rgid': 'PB:19364043_AS:101511233277955@1401213572478', 'source': 'data/SlamonetalSCIENCE1987.pdf', 'total_pages': 8, 'page': 3, 'page_label': '4'}, page_content='ture;twowashesof30minuteseachin2x SSC,exposedtoXAR-5x-rayfilm(Kodak)forautora-\\n0.1%SDSat65°C;onewashof30minutesin diography.\\nSCIENCE,VOL.235\\n on January 15, 2007 www.sciencemag.orgDownloaded from \\nBIOM 255 (Leffert) – Discussion Feb. 1, 2007'),\n",
       " Document(metadata={'producer': 'Adobe PDF Library 7.0', 'creator': 'PyPDF', 'creationdate': '2007-01-15T15:29:22+00:00', 'moddate': '2008-03-03T11:28:12-08:00', 'rgid': 'PB:19364043_AS:101511233277955@1401213572478', 'source': 'data/SlamonetalSCIENCE1987.pdf', 'total_pages': 8, 'page': 4, 'page_label': '5'}, page_content='Fig.2.(A)ExampleofdilutionalanalysistoassessdegreeofHER-2/neu\\ngeneamplification.Lanesa,g,k,andpwereloadedwith12,ugofEcoL1-\\ndigestedbreasttumorDNA.LaneaisDNAfromtumor31(Fig.1),which\\nrepresentsatumorwithasinglecopyoftheHER/2-neugene.Lanegis\\nDNA fromtumor33,whichrepresentsatumorwith>20copiesofthe\\nHER-2/neugene.Lanesbtofareserialdilutions(1:100,1:20,1:10,1:5,\\nand1:2,respectively)oftheDNA sampleinlaneg.LanekisDNA from\\ntumor35(Fig.1),whichrepresentsatumorcontainingtwotofivecopiesof'),\n",
       " Document(metadata={'producer': 'Adobe PDF Library 7.0', 'creator': 'PyPDF', 'creationdate': '2007-01-15T15:29:22+00:00', 'moddate': '2008-03-03T11:28:12-08:00', 'rgid': 'PB:19364043_AS:101511233277955@1401213572478', 'source': 'data/SlamonetalSCIENCE1987.pdf', 'total_pages': 8, 'page': 4, 'page_label': '5'}, page_content='theHER-2/neugene.Laneshtojareserialdilutions(1:10,1:5,and1:2,\\nrespectively)oftheDNAsampleinlanek.LanepisDNAfromtumor34\\n(Fig.1),whichrepresents atumorwith5to20copiesoftheHER-2/neu\\ngene.LanesItooareserialdilutions(1:20,1:10,1:5,and1:2,respective-\\nly)oftheDNAsampleinlanep.Thefilterwaspreparedandhybridizedwith\\na P-labeledHER-2probeasinFig.1.(B)Exampleofarginaseprobe\\nhybridizationtodemonstratethatequivalentamountsoftumorDNAwere\\nloadedintoeachlane.Rehybridizationoffiltercontaininglanes30to40'),\n",
       " Document(metadata={'producer': 'Adobe PDF Library 7.0', 'creator': 'PyPDF', 'creationdate': '2007-01-15T15:29:22+00:00', 'moddate': '2008-03-03T11:28:12-08:00', 'rgid': 'PB:19364043_AS:101511233277955@1401213572478', 'source': 'data/SlamonetalSCIENCE1987.pdf', 'total_pages': 8, 'page': 4, 'page_label': '5'}, page_content='(Fig.1).Thefilterwasfirststrippedoflabelbywashinginabuffermadeup\\nof50%formamide,3xSSC,and0.1%SDSat65°Cfor20minutes,followingbythreesuccessivewashesof5minuteseachin0.1xSSCatroom\\ntemperature.FilterswereexposedovernightonXAR-5film(Kodak)to\\nensureremovalofallradioactiveprobe,thenrehybridizedasinFig.1witha\\n32P-labeledhumanarginasegeneprobe(31).\\ninablindedfashion,inthattheyweremadewithoutknowledgeof\\ndiseaseparameters.Analysisofthedataforassociationbetweengene\\namplificationandanumberofdiseaseparameterswasthenper-'),\n",
       " Document(metadata={'producer': 'Adobe PDF Library 7.0', 'creator': 'PyPDF', 'creationdate': '2007-01-15T15:29:22+00:00', 'moddate': '2008-03-03T11:28:12-08:00', 'rgid': 'PB:19364043_AS:101511233277955@1401213572478', 'source': 'data/SlamonetalSCIENCE1987.pdf', 'total_pages': 8, 'page': 4, 'page_label': '5'}, page_content='formed.\\nOf103tumorsevaluatedintheinitialsurvey,therewasessentially\\nnocorrelationbetweengeneamplificationandestrogenreceptor\\nstatus,progesteronereceptorstatus,sizeoftumors,orageat\\ndiagnosis(Table1).However,whenanalysiswasperformedfor\\nassociationbetweenHER-2/neuamplificationandnumberofposi-\\ntivelymphnodes,atrendwasnoted.Thisanalysisshowedthat4/34\\n(11%)ofpatientswithnoinvolvednodes,2/20(10%)with1to3\\ninvolvednodes,and8/25(32%)with>3involvednodeshadgene\\namplification(P= 0.11).Ifthesedatawereexaminedbycomparing'),\n",
       " Document(metadata={'producer': 'Adobe PDF Library 7.0', 'creator': 'PyPDF', 'creationdate': '2007-01-15T15:29:22+00:00', 'moddate': '2008-03-03T11:28:12-08:00', 'rgid': 'PB:19364043_AS:101511233277955@1401213572478', 'source': 'data/SlamonetalSCIENCE1987.pdf', 'total_pages': 8, 'page': 4, 'page_label': '5'}, page_content='0to3positivenodesversus>3positivenodes,thecorrelationwith\\ngeneamplificationbecamemoresignificant(P<0.05).Thus,there\\nwasasignificantincreaseinincidenceofHER-2/neugeneamplifica-\\ntioninpatientswith>3axillarylymphnodesinvolvedwithdisease.\\nAmultivariateregressionanalysistocorrelateHER-2/neuamplifica-\\ntionwithvariousdiseaseparametersidentifiedthenumberof\\npositivenodesastheonlysignificantfactor,eitheraloneorin\\ncombination,tocorrelatewithamplification.\\nThisinitialstudyindicatedthatitmightbepossibletodiscrimi-'),\n",
       " Document(metadata={'producer': 'Adobe PDF Library 7.0', 'creator': 'PyPDF', 'creationdate': '2007-01-15T15:29:22+00:00', 'moddate': '2008-03-03T11:28:12-08:00', 'rgid': 'PB:19364043_AS:101511233277955@1401213572478', 'source': 'data/SlamonetalSCIENCE1987.pdf', 'total_pages': 8, 'page': 4, 'page_label': '5'}, page_content='nateamongnode-positivepatientsonthebasisofHER-2/neugene\\nA\\na bc d e f g h i j k I m n o p\\nB\\namplification.Itiswellknownthatthenumberofpositivenodesis\\nthebestprognosticfactorfordiseaserecurrenceandsurvivalin\\npatientswithbreastcancer(29).Given.thecorrelationbetween\\nnumberofnodespositiveandHER-2/neuamplification,onemight\\npredictthatamplificationofthisgenemightalsohavesome\\nprognosticvalue.No long-termfollow-updata,however,were\\navailableonthe103patientsanalyzedintheinitialstudy.Forthis'),\n",
       " Document(metadata={'producer': 'Adobe PDF Library 7.0', 'creator': 'PyPDF', 'creationdate': '2007-01-15T15:29:22+00:00', 'moddate': '2008-03-03T11:28:12-08:00', 'rgid': 'PB:19364043_AS:101511233277955@1401213572478', 'source': 'data/SlamonetalSCIENCE1987.pdf', 'total_pages': 8, 'page': 4, 'page_label': '5'}, page_content='reason,asecondstudywasconductedon100breastcancersamples\\nfrompatientswithpositiveaxillarylymphnodes.Alloftheinforma-\\ntionavailableforthefirstgroupof103patientswasavailablefor\\nthesepatients.Inaddition,relapseandsurvivalinformationwas\\navailable,sincethesecaseshadamedianfollow-upof46months\\n(range24to86months).Ofthese100samples,86yieldedsufficient\\nDNA forstudy.AmplificationoftheHER-2/neugenewasmea-\\nsuredasintheinitialsurvey,andexamplesoftumorsfromthisstudy\\nareshown(Fig.1).Amplificationwasfoundin34/86(40%)of'),\n",
       " Document(metadata={'producer': 'Adobe PDF Library 7.0', 'creator': 'PyPDF', 'creationdate': '2007-01-15T15:29:22+00:00', 'moddate': '2008-03-03T11:28:12-08:00', 'rgid': 'PB:19364043_AS:101511233277955@1401213572478', 'source': 'data/SlamonetalSCIENCE1987.pdf', 'total_pages': 8, 'page': 4, 'page_label': '5'}, page_content='thesepatients.Forthislargersampleofnode-positivepatients,\\nseveralstatisticallysignificantornearlysignificantrelationshipswere\\nobserved.Inagreementwiththepreliminarysurvey,therewasan\\nassociationbetweennumberofinvolvedlymphnodesandHER-2/\\nneuamplification(Table2).Inaddition,thepresenceofgene\\namplificationwascorrelatedwithestrogenreceptorstatusandsize\\nofprimarytumor(Table2).Together,thesetwosurveysyielded\\ndataon189patientsandtheassociationofHER-2/neuamplifica-'),\n",
       " Document(metadata={'producer': 'Adobe PDF Library 7.0', 'creator': 'PyPDF', 'creationdate': '2007-01-15T15:29:22+00:00', 'moddate': '2008-03-03T11:28:12-08:00', 'rgid': 'PB:19364043_AS:101511233277955@1401213572478', 'source': 'data/SlamonetalSCIENCE1987.pdf', 'total_pages': 8, 'page': 4, 'page_label': '5'}, page_content='tionwithvariousdiseaseparametersinthecombinedgroupis\\nshowninTable3.\\nWhilethesecorrelationswereofinterest,thestrongrelationship\\n1.0-\\nFig.3.Actuarialcurveforrelapsein(A)node-\\npositivepatientswithnoamplificationversus\\nnode-positivepatientswithanyamplification(>2\\ncopies)ofHER-2/neuand(C)node-positivepa-\\ntientswithnoamplificationversusnode-positive\\npatientswithgreaterthan5copiesofHER-2/neu.\\nActuarialcurveforoverallsurvivalin(B)node-\\npositivepatientswithnoamplificationversus'),\n",
       " Document(metadata={'producer': 'Adobe PDF Library 7.0', 'creator': 'PyPDF', 'creationdate': '2007-01-15T15:29:22+00:00', 'moddate': '2008-03-03T11:28:12-08:00', 'rgid': 'PB:19364043_AS:101511233277955@1401213572478', 'source': 'data/SlamonetalSCIENCE1987.pdf', 'total_pages': 8, 'page': 4, 'page_label': '5'}, page_content=\"positivepatientswithnoamplificationversus\\nnode-positivepatientswithanyamplification(>2\\ncopies)ofHER-2/neuand(D)node-positivepa-\\ntientswithnoamplificationversusnode-positive\\npatientswithgreaterthan5copiesofHER-2/neu.\\nActuarialcurvesforbothrelapseandoverallsur-\\nvivalwerecomputedbythemethodofKaplan\\nandMeier(44)andcomparedbythelogranktest\\n(42-44).\\n9JANUARYI987\\n>.0.8-\\n0.6-\\nCDton\\n,, 0.4-'I\\n30.2\\n0\\n1.0-\\nc 0.8-\\nI.\\n0 0.6-\\n00.\\nOX 0.4-\\n` 0.2-\\namplified(n=52)\\nAmplified(n=34)\\nA\\nNotamplified(n=52)\\nAmplified(n=34)\\nB\"),\n",
       " Document(metadata={'producer': 'Adobe PDF Library 7.0', 'creator': 'PyPDF', 'creationdate': '2007-01-15T15:29:22+00:00', 'moddate': '2008-03-03T11:28:12-08:00', 'rgid': 'PB:19364043_AS:101511233277955@1401213572478', 'source': 'data/SlamonetalSCIENCE1987.pdf', 'total_pages': 8, 'page': 4, 'page_label': '5'}, page_content='A\\nNotamplified(n=52)\\nAmplified(n=34)\\nB\\n12 24 36 48 60 72 84\\nNotamplified(n=52)\\nAmplified(n=11)\\n>5copies\\nC\\nNotamplified(n=52)\\nAmplified(n=11)\\n>5copies\\nD\\n12 24 36 48 60 72 84\\nTime(months)\\nARTICLES 179\\n on January 15, 2007 www.sciencemag.orgDownloaded from \\nBIOM 255 (Leffert) – Discussion Feb. 1, 2007'),\n",
       " Document(metadata={'producer': 'Adobe PDF Library 7.0', 'creator': 'PyPDF', 'creationdate': '2007-01-15T15:29:22+00:00', 'moddate': '2008-03-03T11:28:12-08:00', 'rgid': 'PB:19364043_AS:101511233277955@1401213572478', 'source': 'data/SlamonetalSCIENCE1987.pdf', 'total_pages': 8, 'page': 5, 'page_label': '6'}, page_content='betweenHER-2/neuamplificationandnodalstatus(P=0.002)\\nindicatedthatinformationonamplificationofthisgenemay\\ncorrelatewithdiseasebehavior;thatis,recurrencesandsurvival.To\\ntestthis,univariatesurvivalanalyseswereperformedinwhich\\namplificationwascomparedtorelapseandsurvivalinthispatient\\ngroup.Atotalof35patientshadarecurrenceofthedisease,and29\\nhaddiedatthetimeoftheanalyses.Mediantimestorelapseand\\ndeathwere62monthsand69months,respectively.Themedian\\nfollow-uptimeforpatientsstillalivewas47months,rangingfrom'),\n",
       " Document(metadata={'producer': 'Adobe PDF Library 7.0', 'creator': 'PyPDF', 'creationdate': '2007-01-15T15:29:22+00:00', 'moddate': '2008-03-03T11:28:12-08:00', 'rgid': 'PB:19364043_AS:101511233277955@1401213572478', 'source': 'data/SlamonetalSCIENCE1987.pdf', 'total_pages': 8, 'page': 5, 'page_label': '6'}, page_content='24to86months.Atotalof71ofthe86patients(83%)received\\nsomeformoftherapyaftermastectomy:adjuvantsystemictherapy\\nalone,47%;adjuvantsystemictherapypluslocalradiation,19%;\\nandlocalradiationalone,17%.A strongandhighlystatistically\\nsignificantcorrelationwasfoundbetweenthedegreeofgene\\namplificationandbothtimetodiseaserelapse(P=<0.0001)and\\nsurvival(P= 0.0011)(Table4).Moreover,whencomparedin\\nunivariateanalysestootherparameters,amplificationofHER-2/neu\\nwasfoundtobesuperiortoallotherprognosticfactors,withthe'),\n",
       " Document(metadata={'producer': 'Adobe PDF Library 7.0', 'creator': 'PyPDF', 'creationdate': '2007-01-15T15:29:22+00:00', 'moddate': '2008-03-03T11:28:12-08:00', 'rgid': 'PB:19364043_AS:101511233277955@1401213572478', 'source': 'data/SlamonetalSCIENCE1987.pdf', 'total_pages': 8, 'page': 5, 'page_label': '6'}, page_content='exceptionofthenumberofpositivenodes(whichitequaled)in\\npredictingtimetorelapseandoverallsurvivalinhumanbreast\\ncancer(Table4).TheassociationbetweenHER-2/neuamplification\\nandrelapseandsurvivalcanbeillustratedgraphicallyinactuarial\\nsurvivalcurves(Fig.3,A toD).Whiletherewasasomewhat\\nshortenedtimetorelapseandshorteroverallsurvivalinpatients\\nhavinganyamplificationoftheHER-2/neugeneintheirtumors\\n(Fig.3,A andB),thegreatestdifferenceswerefoundwhen\\ncomparingpatientswith>5copiesofthegenetothosewithout'),\n",
       " Document(metadata={'producer': 'Adobe PDF Library 7.0', 'creator': 'PyPDF', 'creationdate': '2007-01-15T15:29:22+00:00', 'moddate': '2008-03-03T11:28:12-08:00', 'rgid': 'PB:19364043_AS:101511233277955@1401213572478', 'source': 'data/SlamonetalSCIENCE1987.pdf', 'total_pages': 8, 'page': 5, 'page_label': '6'}, page_content='amplification(singlecopy)(Fig.3,CandD).Patientswithgreater\\nthanfivecopiesofHER-2/neuhadevenshorterdisease-freesurvival\\ntimes(P= 0.015)andoverallsurvivaltimes(P= 0.06)when\\ncomparedtopatientswithnoamplification.Thephenomenonof\\ngreatergenecopynumbercorrelatingwithaworseprognosishas\\nalsobeenseeninevaluationsofN-mycgeneamplificationinhuman\\nneuroblastomas(32).\\nTodetermineifamplificationofHER-2/neuwasindependentof\\notherknownprognosticfactorsinpredictingdiseasebehavior,'),\n",
       " Document(metadata={'producer': 'Adobe PDF Library 7.0', 'creator': 'PyPDF', 'creationdate': '2007-01-15T15:29:22+00:00', 'moddate': '2008-03-03T11:28:12-08:00', 'rgid': 'PB:19364043_AS:101511233277955@1401213572478', 'source': 'data/SlamonetalSCIENCE1987.pdf', 'total_pages': 8, 'page': 5, 'page_label': '6'}, page_content='multivariatesurvivalanalyseswereperformedonthe86node-\\npositivecases.Amplificationofthegenecontinuedtobeastrong\\nprognosticfactor,providingadditionalandindependentpredictive\\ninformationonbothtimetorelapseandoverallsurvivalinthese\\nTable2.AssQciationbetweenHER-2/neuamplificationanddisaseparame-\\ntersin86breasttumorsfromnode-positivepatients.\\nFactor*Single2to5 5to20 >20 Total Ptcopy copies copiescopies\\nHomonalreceptorstatu\\nER+ 38 21 5 1 65 0.05\\nER- 14 2 4 1 21\\nPgR+ 31 18 4 1 54 0.14\\nPgR- 21 5 5 1 32'),\n",
       " Document(metadata={'producer': 'Adobe PDF Library 7.0', 'creator': 'PyPDF', 'creationdate': '2007-01-15T15:29:22+00:00', 'moddate': '2008-03-03T11:28:12-08:00', 'rgid': 'PB:19364043_AS:101511233277955@1401213572478', 'source': 'data/SlamonetalSCIENCE1987.pdf', 'total_pages': 8, 'page': 5, 'page_label': '6'}, page_content='PgR+ 31 18 4 1 54 0.14\\nPgR- 21 5 5 1 32\\nTumorsize(centimeters)\\n<2 18 8 3 0 29 0.09\\n2-5 28 12 2 1 43\\n>5 6 3 4 1 14\\nAgeatdiagnosis(years)\\n50 16 12 6 1 35 0.06\\n>50 36 11 3 1 51\\nNumberofpositivelymphnodes\\n1-3 31 7 5 0 43 0.06>3 21 16 4 2 43\\nFig.4.ExampleofrehybridizationoffilterwithhumanEGFRprobe.Filters\\nwerestrippedasinFig.2B,andhybridizedwith32P-labeledhumanEGFR\\nprobe(28),asinFig.1.Shownarethelowermolecularweightbands\\nhybridizedwith32P-labeledEGFRprobeinfilter-containinglanes51to66'),\n",
       " Document(metadata={'producer': 'Adobe PDF Library 7.0', 'creator': 'PyPDF', 'creationdate': '2007-01-15T15:29:22+00:00', 'moddate': '2008-03-03T11:28:12-08:00', 'rgid': 'PB:19364043_AS:101511233277955@1401213572478', 'source': 'data/SlamonetalSCIENCE1987.pdf', 'total_pages': 8, 'page': 5, 'page_label': '6'}, page_content='(Fig.1).Thebandsfromtoptobottomare2.8,2.2,and1.8kb,respectively.\\nLane52isanexampleofatumorshowingmarkedamplification(>50\\ncopies)oftheEGFRgene.\\npatients,evenwhenotherprognosticfactorsweretakeninto\\naccount(Table4).\\nRearrangementoftheHER-2/neugenewasrare.Ofthetotal189\\ntumorsevaluated,threeshowedevidenceofrearrangement,andin\\ntwoofthethreecases,therearrangementwasidentical(Fig.1,cases\\n77to79).Also,twooftherearrangedHER-2/neulociwere\\namplified(Fig.1,cases78and79).TheincidenceofHER-2/neu'),\n",
       " Document(metadata={'producer': 'Adobe PDF Library 7.0', 'creator': 'PyPDF', 'creationdate': '2007-01-15T15:29:22+00:00', 'moddate': '2008-03-03T11:28:12-08:00', 'rgid': 'PB:19364043_AS:101511233277955@1401213572478', 'source': 'data/SlamonetalSCIENCE1987.pdf', 'total_pages': 8, 'page': 5, 'page_label': '6'}, page_content='rearrangementasdeterminedbyEcoRIdigestionwastoosmallto\\nattemptstatisticalcorrelations.\\nTodeterminewhetherthephenomenonofamplificationofHER-\\n21neuinbreastcancerextendedtorelatedgrowthfactorreceptors,\\nallfilterswereanalyzedwiththeEGFRprobe(Fig.4).Amplifica-\\ntionoftheEGFRgenewasfoundin4/189(2%)ofthecases,and\\nrearrangementoftheEGFRgenewasfoundinoneofthosefour\\ncases.TheincidenceofEGFRamplificationandrearrangementwas\\ntoosmalltoattemptstatisticalcorrelation.ComparisonofHER-2/'),\n",
       " Document(metadata={'producer': 'Adobe PDF Library 7.0', 'creator': 'PyPDF', 'creationdate': '2007-01-15T15:29:22+00:00', 'moddate': '2008-03-03T11:28:12-08:00', 'rgid': 'PB:19364043_AS:101511233277955@1401213572478', 'source': 'data/SlamonetalSCIENCE1987.pdf', 'total_pages': 8, 'page': 5, 'page_label': '6'}, page_content='neuamplification(53/189or28%)withthatoftheEGFRgene\\nrevealstheincidenceoftheformertobe14timesgreaterthanthat\\nofthelatter,indicatingthatthephenomenonofgeneamplification\\nisnotageneraloneforarelatedtyrosinekinase-specificreceptorin\\nhumanbreastcancer.Moreover,studiesexaminingalterationsof\\ntwoothertyrosinekinase-specificproto-oncogenes,abiandfes,in\\nbreastcancerdidnotshowamplificationofthesegenes(33).\\nAlterationsofnon-tyrosinekinase-relatedproto-oncogenesinthese'),\n",
       " Document(metadata={'producer': 'Adobe PDF Library 7.0', 'creator': 'PyPDF', 'creationdate': '2007-01-15T15:29:22+00:00', 'moddate': '2008-03-03T11:28:12-08:00', 'rgid': 'PB:19364043_AS:101511233277955@1401213572478', 'source': 'data/SlamonetalSCIENCE1987.pdf', 'total_pages': 8, 'page': 5, 'page_label': '6'}, page_content='Table3.AssociationbetweenHER-2/neuamplificationanddiseaseparame-\\ntersincombinedsurveys(189patients).\\nFactor*Single2to5 5to20 >20 Total PtCOPY copiescopiescopies\\nHormnalreceptorstatus\\nER+ 91 23 14 2 130 0.05\\nER- 45 3 6 5 59\\nPgR+ 73 20 10 3 106 0.06\\nPgR- 63 6 10 4 83\\nTumorsize(centimetes)\\ns<2 31 9 4 0 44 0.19\\n2-5 62 13 7 2 84\\n>5 23 4 6 3 36\\nUnknown 20 0 3 2 25\\nAgeatdiagnosis(years)\\n<50 37 13 8 2 60 0.11\\n>50 88 13 10 5 116\\nUnknown 11 0 2 0 13\\nNumberofpositivelymphnodes\\n0 30 0 3 1 34 0.002\\n1-3 51 7 6 1 65'),\n",
       " Document(metadata={'producer': 'Adobe PDF Library 7.0', 'creator': 'PyPDF', 'creationdate': '2007-01-15T15:29:22+00:00', 'moddate': '2008-03-03T11:28:12-08:00', 'rgid': 'PB:19364043_AS:101511233277955@1401213572478', 'source': 'data/SlamonetalSCIENCE1987.pdf', 'total_pages': 8, 'page': 5, 'page_label': '6'}, page_content='0 30 0 3 1 34 0.002\\n1-3 51 7 6 1 65\\n>3 38 18 8 4 68\\nUnknown 17 1 3 1 22\\n*ERandPgRarcasdescribedinTable1. tStatisticalanalysesforcorrelationofHER-2/neuamplificationwithvariousdiseaseparameterswereperformcdbythex2test.Pvalueswerecomputedaftercombiningthecaseswith5to20and>20copies.\\nSCIENCE,VOL.235\\n*ERandPgRareasdescribedinTable1. tStatisticalanalysesforcorrelationof\\nHER-2/neuamplificationwithvariousdiseaseparameterswereperformedbythex2test.Pvalueswerccomputedaftercombiningthe5to20and>20cases,sincethere-'),\n",
       " Document(metadata={'producer': 'Adobe PDF Library 7.0', 'creator': 'PyPDF', 'creationdate': '2007-01-15T15:29:22+00:00', 'moddate': '2008-03-03T11:28:12-08:00', 'rgid': 'PB:19364043_AS:101511233277955@1401213572478', 'source': 'data/SlamonetalSCIENCE1987.pdf', 'total_pages': 8, 'page': 5, 'page_label': '6'}, page_content='weresofewsamplesinthe>20group.\\ni8o\\n on January 15, 2007 www.sciencemag.orgDownloaded from \\nBIOM 255 (Leffert) – Discussion Feb. 1, 2007'),\n",
       " Document(metadata={'producer': 'Adobe PDF Library 7.0', 'creator': 'PyPDF', 'creationdate': '2007-01-15T15:29:22+00:00', 'moddate': '2008-03-03T11:28:12-08:00', 'rgid': 'PB:19364043_AS:101511233277955@1401213572478', 'source': 'data/SlamonetalSCIENCE1987.pdf', 'total_pages': 8, 'page': 6, 'page_label': '7'}, page_content='Table4.Univariateandmultivariateanalysescomparingdisese-freesurvival(relapse)andovrallsurvivaltoprognosticfactorsinnode-positivepatients.\\nUnivariate(P) Multivariate*Factor Survival Relapse Survival Relapse\\nNumberofpositivenodes 0.0001 0.0002 0.0003(0.0938±0.0256) 0.001(0.0849±0.Q266)HER-2/neu 0.0011 <0.0001 0.02 (0.0872±0.0388) 0.001(0.1378±0.0425)\\nLog(PgR) 0.05 0.05\\nTumorsizc 0.06 0.06\\nLog(ER) 0.15 0.10 0.03(-0.5158±0.2414)\\nAge 0.22 0.61'),\n",
       " Document(metadata={'producer': 'Adobe PDF Library 7.0', 'creator': 'PyPDF', 'creationdate': '2007-01-15T15:29:22+00:00', 'moddate': '2008-03-03T11:28:12-08:00', 'rgid': 'PB:19364043_AS:101511233277955@1401213572478', 'source': 'data/SlamonetalSCIENCE1987.pdf', 'total_pages': 8, 'page': 6, 'page_label': '7'}, page_content='Age 0.22 0.61\\n*CoxAspartialnonparametncregressionmodelwasusedtoevaluatethepredictivepowerofvariouscombinationsandinteractionsofprognosticfactorsinamultivariatemanner(42-44).ResultsareshownasP(regressioncoefficient±SE).\\ntumorshavebeenexamined.Inasurveyof121primarybreast\\nmalignancies,amplificationofthec-mycgenewasfoundin38\\n(32%)(34).Attemptstocorrelatec-mycgeneamplificationwith\\nstageofdisease,hormonalreceptorstatus,histopathologicgrade,or\\naxillarynodemetastasesshowednoassociation.Therewasastatisti-'),\n",
       " Document(metadata={'producer': 'Adobe PDF Library 7.0', 'creator': 'PyPDF', 'creationdate': '2007-01-15T15:29:22+00:00', 'moddate': '2008-03-03T11:28:12-08:00', 'rgid': 'PB:19364043_AS:101511233277955@1401213572478', 'source': 'data/SlamonetalSCIENCE1987.pdf', 'total_pages': 8, 'page': 6, 'page_label': '7'}, page_content='callysignificantassociationbetweenc-mycamplificationandagcat\\ndiagnosis>50yearsinagroupof95ofthesepatients(34).Dataon\\nrelapseandsurvivalwerenotpresentedinthisstudy;however,there\\nwasnocorrelationbetweenc-mycamplificationandnodalstatusto\\nindicateanassociationwithdiseasebehavior.\\nTheexactroleofvariousproto-oncogenesinthepathogenesisof\\nhumanmalignanciesremainsunclear.Onelineofevidenceimplicat-\\ningabnormalitiesofthesegenesinhumandiseaseisassociationof\\ntheiramplificationwithtumorprogressioninspecificcancers.The'),\n",
       " Document(metadata={'producer': 'Adobe PDF Library 7.0', 'creator': 'PyPDF', 'creationdate': '2007-01-15T15:29:22+00:00', 'moddate': '2008-03-03T11:28:12-08:00', 'rgid': 'PB:19364043_AS:101511233277955@1401213572478', 'source': 'data/SlamonetalSCIENCE1987.pdf', 'total_pages': 8, 'page': 6, 'page_label': '7'}, page_content='N-mycgeneisfrequentlyamplifiedinhumanneuroblastomasand\\nneuroblastomacelllines(35,36).StudiesontheN-mycproto-\\noncogenewerethefirsttoshowadirectassociationbetween\\nabnormalitiesinaproto-oncogeneandclinicalbehaviorofahuman\\ntumor.N-mycamplificationandexpressioncorrelatebothwithstage\\nofdiseaseandoverallsurvivalinpatientswithneuroblastoma(10,\\n32,37).MoreoverthegreatertheN-mycgenecopynumber,the\\nworsethepatientprognosisforallstagesofthedisease(32).Taken\\ntogether,thesedataindicatearolefortheN-mycgeneinthe'),\n",
       " Document(metadata={'producer': 'Adobe PDF Library 7.0', 'creator': 'PyPDF', 'creationdate': '2007-01-15T15:29:22+00:00', 'moddate': '2008-03-03T11:28:12-08:00', 'rgid': 'PB:19364043_AS:101511233277955@1401213572478', 'source': 'data/SlamonetalSCIENCE1987.pdf', 'total_pages': 8, 'page': 6, 'page_label': '7'}, page_content='pathogenesisofneuroblastoma(32).\\nNeuroblastomaisarelativelyrarediseasewithanincidenceofone\\nper125,000children.Carcinomaofthebreast,however,isa\\ncommonmalignancyaffectingoneofevery13womenintheUnited\\nStates.Thereare119,000newcasesperyear,andapproximately\\n40,000womenwilldieofthediseasein1986(38).Current\\ntreatmentdecisionsforindividualpatientsarefrequentlybasedon\\nspecificprognosticparameters.Themajorprognosticfactorsfor\\nbreastcancerincludepresenceorabsenceoftumorintheaxillary'),\n",
       " Document(metadata={'producer': 'Adobe PDF Library 7.0', 'creator': 'PyPDF', 'creationdate': '2007-01-15T15:29:22+00:00', 'moddate': '2008-03-03T11:28:12-08:00', 'rgid': 'PB:19364043_AS:101511233277955@1401213572478', 'source': 'data/SlamonetalSCIENCE1987.pdf', 'total_pages': 8, 'page': 6, 'page_label': '7'}, page_content='nodes,sizeoftheprimarytumor,andpresenceorabsenceof\\nhormonalreceptors(29).Thecurrentstudyindicatesthatamplifica-\\ntionoftheHER-2/neugeneisasignificantpredictorofbothoverall\\nsurvivalandtimetorelapseinnode-positivepatientswithbreast\\ncancer.Amplificationofthegeneretainsitsprognosticsignificance\\ninmultivariateanalysis,evenwhenadjustmentsaremadeforother\\nknownprognosticfactors.Moreover,amplificationofHER-2/neu\\nhasgreaterprognosticvaluethanmostcurrentlyusedprognostic'),\n",
       " Document(metadata={'producer': 'Adobe PDF Library 7.0', 'creator': 'PyPDF', 'creationdate': '2007-01-15T15:29:22+00:00', 'moddate': '2008-03-03T11:28:12-08:00', 'rgid': 'PB:19364043_AS:101511233277955@1401213572478', 'source': 'data/SlamonetalSCIENCE1987.pdf', 'total_pages': 8, 'page': 6, 'page_label': '7'}, page_content='fictors,includingprogesteroneandestrogenreceptors,andis\\nequivalenttoandindependentofthebestknownprognosticator-\\nnumberofpositivelymphnodes.Finally,thedegreeofHER-2/neu\\namplificationappearstohaveaneffectonsurvival,withgreatercopy\\nnumberbeingassociatedwithaworseprognosis(Fig.3,CandD).\\nAsimilarphenomenonhasbeenobservedforN-mycgeneamplifica-\\ntioninhumanneuroblastoma(32).\\nThepotentialroleofHER-2/neuinthepathogenesisofbreast\\ncancerisunknown.LikeN-myc,thecorrelationofHER-2/neu'),\n",
       " Document(metadata={'producer': 'Adobe PDF Library 7.0', 'creator': 'PyPDF', 'creationdate': '2007-01-15T15:29:22+00:00', 'moddate': '2008-03-03T11:28:12-08:00', 'rgid': 'PB:19364043_AS:101511233277955@1401213572478', 'source': 'data/SlamonetalSCIENCE1987.pdf', 'total_pages': 8, 'page': 6, 'page_label': '7'}, page_content='amplficationwithdiseaseprogressionindicatesitmaybean\\nimportantgeneinthediseaseprocess.Theroleofothercell\\n9JANUARY1987\\nreceptorsinthebiologyofbreastcanceriswellestablished(29,39,\\n40).Itiseasytospeculatethatageneencodingaputativegrowth\\nfactorreceptor,whenexpressedininappropriateamounts,maygive\\nagrowthadvantagetothecellsexpressingit.Alternatively,alter-\\nationinthegeneproductitselfmayleadtoacriticalchangeinthe\\nreceptorprotein.A singlepointmutationinthetransmembrane'),\n",
       " Document(metadata={'producer': 'Adobe PDF Library 7.0', 'creator': 'PyPDF', 'creationdate': '2007-01-15T15:29:22+00:00', 'moddate': '2008-03-03T11:28:12-08:00', 'rgid': 'PB:19364043_AS:101511233277955@1401213572478', 'source': 'data/SlamonetalSCIENCE1987.pdf', 'total_pages': 8, 'page': 6, 'page_label': '7'}, page_content='domainoftheproteinencodedbytheratneuoncogeneappearsto\\nbeallthatisnecessaryforthegenetogaintransformingability(41).\\nWhetherthisorasimilaralterationisfoundintheamplifiedHER-\\n21neugeneinhumanbreastcancerwillrequiresequenceanalysisof\\nthehomologousregionintheamplifiedhumangene.Inaddition,\\nstudiesevaluatingtheexpressionofthisgeneattheRNAand/or\\nproteinlevelwillproveimportantindeterminingifHER-2/neu\\namplificationresultsinanexpectedincreasedgeneexpression.The\\nquestionofamplificationofHER-2/neuinmetastaticascompared'),\n",
       " Document(metadata={'producer': 'Adobe PDF Library 7.0', 'creator': 'PyPDF', 'creationdate': '2007-01-15T15:29:22+00:00', 'moddate': '2008-03-03T11:28:12-08:00', 'rgid': 'PB:19364043_AS:101511233277955@1401213572478', 'source': 'data/SlamonetalSCIENCE1987.pdf', 'total_pages': 8, 'page': 6, 'page_label': '7'}, page_content='toprimarylesionsinagivenpatientisimportant.Thecurrentstudy\\nutilizedonlyprimarybreasttumorsforanalyses.Itwouldbeof\\ninteresttodetermineifHER-2/neucopynumberisalteredasthe\\ntumormetastasizes.ArecentstudyevaluatingN-myccopynumber\\ninhumansmallcellcarcinomaofthelungshowednodifference\\nbetweenprimaryandmetastaticlesions(11).\\nTheinitialsurveyfromthecurrentstudyshowedthat15%of\\nbreastcancerpatientswithstageIdisease(node-negative)have\\nHER-2/ncuamplification.Unfortunately,nolong-termfollow-up'),\n",
       " Document(metadata={'producer': 'Adobe PDF Library 7.0', 'creator': 'PyPDF', 'creationdate': '2007-01-15T15:29:22+00:00', 'moddate': '2008-03-03T11:28:12-08:00', 'rgid': 'PB:19364043_AS:101511233277955@1401213572478', 'source': 'data/SlamonetalSCIENCE1987.pdf', 'total_pages': 8, 'page': 6, 'page_label': '7'}, page_content='datawereavailableforthesepatients.ThisstageIsettingmaybean\\nadditionalgroupinwhichHER-2/neumeasurementswillhavean\\nimpactinpredictingbiologicbehaviorofthetumor,andasaresult,\\nindesignoftreatmentstrategy.Finally,iftheHER-2/neugene\\nproductfunctionsasagrowthfactorreceptorthatplaysaroleinthe\\npathogenesisofbreastcancer,identificationofitsligandand\\ndevelopmentofspecificantagonistscouldhaveimportanttherapeu-\\nticimplications.\\nREFERENCESAND NOTES\\n1.J.M.Bishop,Annu.Rep.Biochm.52,301(1983).'),\n",
       " Document(metadata={'producer': 'Adobe PDF Library 7.0', 'creator': 'PyPDF', 'creationdate': '2007-01-15T15:29:22+00:00', 'moddate': '2008-03-03T11:28:12-08:00', 'rgid': 'PB:19364043_AS:101511233277955@1401213572478', 'source': 'data/SlamonetalSCIENCE1987.pdf', 'total_pages': 8, 'page': 6, 'page_label': '7'}, page_content='1.J.M.Bishop,Annu.Rep.Biochm.52,301(1983).\\n2.H.E.Varmus,Annu.Rev.Genat.18,553(1984).\\n3.H.Land,L.F.Parada,R.A.Weinberg,Natur(Londn)304,596(1983).\\n4.H.E.Rulcy,ibid.,p.602.5.M.Schwab,H.E.Varmus,J.M.Bishop,ibid.316,160(1985).6.W.S.Hayward,B.G.Neel,S.M.Astn,ibid.290,475(1981).\\n7.D.J.Slamonaat.,Scence224,256(1984).\\n8.M.D.Erismanatal.,Mo.CeU.Biol.5,1969(1985).9.C.M.CroceandG.Klein,Sci.Am.252,54(March1985).10.G.M.Brodeuretat.,Scince224,1121(1984).\\n11.A.J.Wongatal.,ibid.233,461(1986).'),\n",
       " Document(metadata={'producer': 'Adobe PDF Library 7.0', 'creator': 'PyPDF', 'creationdate': '2007-01-15T15:29:22+00:00', 'moddate': '2008-03-03T11:28:12-08:00', 'rgid': 'PB:19364043_AS:101511233277955@1401213572478', 'source': 'data/SlamonetalSCIENCE1987.pdf', 'total_pages': 8, 'page': 6, 'page_label': '7'}, page_content='11.A.J.Wongatal.,ibid.233,461(1986).\\n12.J.Campisietal.,Cde33,357(1983).13.M.E.GreenbergandE.B.Zif,Nature(London)311,433(1984).14.R.Mulleretal.,ibid.299,640(1982).15.D.J.SlamonandM.J.Cline,Proc.Nad.Acad.Sci.U.S.A.81,7141(1984).16.M.D.WaterficldKal.,Natur(London)304,35(1983).\\n17.R.F.Doolittle,M.W.Hunkapiller,L. E.Hood,Sdence221,275(1983).18.C.J.Sherraal.,Cel41,665(1985).19.J.Downwardetal.,Nature(London)307,521(1984).'),\n",
       " Document(metadata={'producer': 'Adobe PDF Library 7.0', 'creator': 'PyPDF', 'creationdate': '2007-01-15T15:29:22+00:00', 'moddate': '2008-03-03T11:28:12-08:00', 'rgid': 'PB:19364043_AS:101511233277955@1401213572478', 'source': 'data/SlamonetalSCIENCE1987.pdf', 'total_pages': 8, 'page': 6, 'page_label': '7'}, page_content='20.C.Shih,L.Padhy,M.Murray,R.A.Weinberg,ibid.290,261(1981).21.A.L.Schechteretal.,ibid.312,513(1984).\\n22.L.Coussensetal.,Sacc230,1132(1985).23.K.Semba,N.Kamata,K.Toyoshima,T.Yamamoto,Proc.Natl.Acad.Sci.U.S.A.82,6497(1985).\\nARTICLESi8i\\n on January 15, 2007 www.sciencemag.orgDownloaded from \\nBIOM 255 (Leffert) – Discussion Feb. 1, 2007'),\n",
       " Document(metadata={'producer': 'Adobe PDF Library 7.0', 'creator': 'PyPDF', 'creationdate': '2007-01-15T15:29:22+00:00', 'moddate': '2008-03-03T11:28:12-08:00', 'rgid': 'PB:19364043_AS:101511233277955@1401213572478', 'source': 'data/SlamonetalSCIENCE1987.pdf', 'total_pages': 8, 'page': 7, 'page_label': '8'}, page_content='24.A.L.Schechteretal.,Scee229,976(1985).\\n25.S.I.Fukushieetal.,Md.Cell.Bit.6,955(1985).\\n26.C.R.King,M.H.Kraus,S.A.Aaronson,Scenc229,974(1985).27.D.MeeakkanandM.Smith,Cytgenet.Cdl.Genet.37,71(1984).\\n28.A.Ulrichetal.,Natum(LI) 309,418(1984).29.G.M.Clarketal.,N.E,wl.J. Med.309,1343(1983).30.T.Maniatis,E.F.Fritch,J.Sambrook,MleularClni:A IabrtoyMaxxal,\\n(ColdSpringHarborLaboratory,ColdSpnrngHarbor,NY,1982),pp.282-285.\\n31.G.J.Dezikes,W.W.Grody,R.M.Kern,S.D. Caearbaum,Bioce.BEspy.Res.Commun.,in press.'),\n",
       " Document(metadata={'producer': 'Adobe PDF Library 7.0', 'creator': 'PyPDF', 'creationdate': '2007-01-15T15:29:22+00:00', 'moddate': '2008-03-03T11:28:12-08:00', 'rgid': 'PB:19364043_AS:101511233277955@1401213572478', 'source': 'data/SlamonetalSCIENCE1987.pdf', 'total_pages': 8, 'page': 7, 'page_label': '8'}, page_content='32.R.C.Seegeretat.,N.El..Med.313,1111(1985).33.J.Yokotattat.,Scenwc231,261(1986).34.C.Escotetal.,Proc.Nat.AMad.Sc.U.S.A.83,4834(1986).35.M.Schwabetal.,Nature(Lodo) 305,245(1983).\\n36.N.E.Kohletat.,Cel35,359(1984).37.R.C.SeegerandD.Slamon,unpublisheddata.38.E.SilverbergandJ.Lubera,CACancerJ.Ce. 36,9(1986).39.K.B.Horwitz,W.L.McGuire,0. H.Pearson,A.Segaloff,Scenc189,726\\n(1975).40.W.L.McGuire,Semin.O#C.5,428(1978).41.C.I.Bargmann,M.C.Hung,K A.Weinberg,Cell45,649(1986).42.D.R.Cox,J.R.Stat.Soc.34,187(1972).'),\n",
       " Document(metadata={'producer': 'Adobe PDF Library 7.0', 'creator': 'PyPDF', 'creationdate': '2007-01-15T15:29:22+00:00', 'moddate': '2008-03-03T11:28:12-08:00', 'rgid': 'PB:19364043_AS:101511233277955@1401213572478', 'source': 'data/SlamonetalSCIENCE1987.pdf', 'total_pages': 8, 'page': 7, 'page_label': '8'}, page_content='43.N.E.Breslow,I=t.Stat.Rep.43,45(1975).44.E.L.KaplanandP.Meier,J.Am.Stat.Aic.53,457(1958).45.SupportedbyU.S.PublicHealthServicegrants CA36827andCA30195anda\\ngrantfiomTritnBiosciences,Inc.Wethank D. Keith,L.Gordon,andW.Aftfor\\nirthnicalassistanceandDr.S.Cedarbaumforprovidingthehumanarginase\\nprobe.\\nThe AtomicStructureofMengo Virus\\nat3.0 A Resolution\\nMINGLuo,GERRITVRIEND*,GREGKAMER,IWONAMINOR,EDWARDARNOLD,\\nMICHAELG.ROSSMANN,ULRIKEBOEGE,DOUGLASG.SCRABA,GREGM.DuKE,\\nANNC.PALMENBERG'),\n",
       " Document(metadata={'producer': 'Adobe PDF Library 7.0', 'creator': 'PyPDF', 'creationdate': '2007-01-15T15:29:22+00:00', 'moddate': '2008-03-03T11:28:12-08:00', 'rgid': 'PB:19364043_AS:101511233277955@1401213572478', 'source': 'data/SlamonetalSCIENCE1987.pdf', 'total_pages': 8, 'page': 7, 'page_label': '8'}, page_content='ANNC.PALMENBERG\\nIhes ofMengovirus,a repesentatve member of\\nthecardiopicorn issubntially difent from the\\nstr and polioviue. Ihesructe of\\nMengo virus was sohledwiththeuseofhman rhinovirus\\n14 as an 8 A resolutionsural aproimation. Phase\\ninfirmationwas thn end to 3 resolutionbyuseof\\ntheicosahedralsymmetry. lhisp ure givespromise\\nthatmany other virussucs alsocan be de\\nwithoutthe use oftheisomorphousreplacementtech-\\nmque. Altioughtheorganiztion ofthe majorcapsid'),\n",
       " Document(metadata={'producer': 'Adobe PDF Library 7.0', 'creator': 'PyPDF', 'creationdate': '2007-01-15T15:29:22+00:00', 'moddate': '2008-03-03T11:28:12-08:00', 'rgid': 'PB:19364043_AS:101511233277955@1401213572478', 'source': 'data/SlamonetalSCIENCE1987.pdf', 'total_pages': 8, 'page': 7, 'page_label': '8'}, page_content=\"mque. Altioughtheorganiztion ofthe majorcapsid\\nproteinsVP1, VP2, and VP3 of Mengo virus isessntially\\nthesame asinrhino-andpoliovimses,largeinsertions\\nP OICORNAVIRUSES(1)COMPRISEA LARGE FAMILYOF SINGLE-\\nstrandedRNA-containinganimalviruses.Theyhavebeen\\ndassifiedintofourgeneraon thebasisofphysicalproperties\\nofthevirions:(i)cardioviruses,suchasencephalomyocarditisvirus\\n(EMCV),Theiler'smurineencephalitisvirus,andMengovirus;(ii)\\nenteroviruses,suchaspoliovirus,hepatitisAvirus,andCoxsackie\"),\n",
       " Document(metadata={'producer': 'Adobe PDF Library 7.0', 'creator': 'PyPDF', 'creationdate': '2007-01-15T15:29:22+00:00', 'moddate': '2008-03-03T11:28:12-08:00', 'rgid': 'PB:19364043_AS:101511233277955@1401213572478', 'source': 'data/SlamonetalSCIENCE1987.pdf', 'total_pages': 8, 'page': 7, 'page_label': '8'}, page_content=\"virus;(iii)aphthoviruses,suchasfoot-and-mouthdiseaseviruses\\n(FMDV);and(iv)rhinoviruses,ofwhichthereareabout100\\nserotypes.Thephysiologicalconsequencesofpicomavirusinfection\\narehighlyvariablebecauseofdifferingtissuetropism,differingviral\\nstabilityinacidenvironment,anddifferingresponsesbyinfected\\nhostcells.Amongthemurinecardioviruses(2),forexample,Mengo\\nviruscanproducefatalencephalitis,a strainofEMCV cancause\\ndiabetes,andastrainofTheiler'sviruscancausechronicdemyelinat-\\ningdisease.\"),\n",
       " Document(metadata={'producer': 'Adobe PDF Library 7.0', 'creator': 'PyPDF', 'creationdate': '2007-01-15T15:29:22+00:00', 'moddate': '2008-03-03T11:28:12-08:00', 'rgid': 'PB:19364043_AS:101511233277955@1401213572478', 'source': 'data/SlamonetalSCIENCE1987.pdf', 'total_pages': 8, 'page': 7, 'page_label': '8'}, page_content='ingdisease.\\nPicornavirionshaverelativemolecularmassofabout8.5x 106\\ndaltons,ofwhichabout30percentisRNA.Theviruspartidesare\\nsphericalwithan externaldiameterofabout300A.Thecoat\\nproteinsformashellwithicosahedralsymmenywith60protomers,\\n182\\nanddeletions,mostlyinVP1,radicallyalterthesurface\\nfeatures.Inparticular,theputativereceptorbinding\\n\"canyon\"ofhuman rhinovirus14becomesadeep\"pit\"in\\nMengovirusbecauseofpolypeptide insertionsinVP1\\nthatfillpartofthecanyon.The minor capsidpeptide,'),\n",
       " Document(metadata={'producer': 'Adobe PDF Library 7.0', 'creator': 'PyPDF', 'creationdate': '2007-01-15T15:29:22+00:00', 'moddate': '2008-03-03T11:28:12-08:00', 'rgid': 'PB:19364043_AS:101511233277955@1401213572478', 'source': 'data/SlamonetalSCIENCE1987.pdf', 'total_pages': 8, 'page': 7, 'page_label': '8'}, page_content='thatfillpartofthecanyon.The minor capsidpeptide,\\nVP4,iscompletelyintenal inMengo virus,butits\\nassociation withtheothercapsidproteis issubstantially\\ndifferentfromthatinrhino-orpoliovirus. However,its\\ncarboxyl terminus islocatedatapositionsimilartothatin\\nhuman rhinovirus 14and poliovirs, suggesting te same\\nautocatalytic ldeavageof VPO to VP4 andVP2 takes place\\nduring assembly inallthesepicornaviruses.\\neachcomposedofasinglecopyofVP1,VP2,VP3,andVP4(Fig.\\n1)withapproximaterelativemolecularmassesof34,000,30,000,'),\n",
       " Document(metadata={'producer': 'Adobe PDF Library 7.0', 'creator': 'PyPDF', 'creationdate': '2007-01-15T15:29:22+00:00', 'moddate': '2008-03-03T11:28:12-08:00', 'rgid': 'PB:19364043_AS:101511233277955@1401213572478', 'source': 'data/SlamonetalSCIENCE1987.pdf', 'total_pages': 8, 'page': 7, 'page_label': '8'}, page_content='25,000,and7,000daltons,respectively.ForMengovirus,the\\nproteinsconsistof277,256,231,and70aminoacids,respectively.\\nOndegradingMengovirus,thevirionsseparateinto13.4Spen-\\ntamersandtheninto6Sprotomers(3,4)consistentwithstructural\\nobservations(5).Traditionally,thecardioviruscapsidproteinshave\\nboendesignateda,, , and8inorderofdecreasingsize;theVP1\\n(a),VP2 (1),VP3 (y),VP4 (6)nomencature isused in-thisartide\\ninordertofacilitatecomparisonwithotherpicomaviruses.Theviral'),\n",
       " Document(metadata={'producer': 'Adobe PDF Library 7.0', 'creator': 'PyPDF', 'creationdate': '2007-01-15T15:29:22+00:00', 'moddate': '2008-03-03T11:28:12-08:00', 'rgid': 'PB:19364043_AS:101511233277955@1401213572478', 'source': 'data/SlamonetalSCIENCE1987.pdf', 'total_pages': 8, 'page': 7, 'page_label': '8'}, page_content='M.Luo,G.Vriend,G.Kamer,I.Minor,E.Amokl,andM.G.R an whodidtheaystlgbicanalysis,areintheDepar ofBiologicalSciences,PurdueUniver-\\nsity,WesLafayet,IN47907.U.BoegeandD.G.Scraba,whoproducedandpurifiedthe60milligramsofvirusused,areintheDepartmeofBiochemistry,UniversityofAlberta,Edmonton,AlbertaT6G2H7,Canada.G.M.DukeandA.C.Palmenberg,whodectminedhscqunceoftheviralRNA,areindtBiophysicalLaboratoryoftieGraduateSchool,Uni tyofWisoin,Maison,WI53706.'),\n",
       " Document(metadata={'producer': 'Adobe PDF Library 7.0', 'creator': 'PyPDF', 'creationdate': '2007-01-15T15:29:22+00:00', 'moddate': '2008-03-03T11:28:12-08:00', 'rgid': 'PB:19364043_AS:101511233277955@1401213572478', 'source': 'data/SlamonetalSCIENCE1987.pdf', 'total_pages': 8, 'page': 7, 'page_label': '8'}, page_content='*Praentaddress:DeparmtofStrucuralChemistry,UniversityofGroningen,Nijcnborgh16,9747AGGro9inn,TheNetherlands.\\nSCIENCE,VOL.235\\n on January 15, 2007 www.sciencemag.orgDownloaded from \\nBIOM 255 (Leffert) – Discussion Feb. 1, 2007\\nView publication stats')]"
      ]
     },
     "execution_count": 114,
     "metadata": {},
     "output_type": "execute_result"
    }
   ],
   "source": [
    "splitter = RecursiveCharacterTextSplitter(\n",
    "        chunk_size=512,\n",
    "        chunk_overlap=50,\n",
    "        separators=[\"\\n\", \"\\n\\n\"]\n",
    "    )\n",
    "chunks = splitter.split_documents(documents)\n",
    "chunks"
   ]
  },
  {
   "cell_type": "code",
   "execution_count": 33,
   "metadata": {},
   "outputs": [
    {
     "data": {
      "text/plain": [
       "'\\nmodel = SentenceTransformer(\\'all-MiniLM-L6-v2\\')\\n# Create embeddings for the chunks\\nembeddings = model.encode(chunks, convert_to_numpy=True)\\n\\n# Store embeddings in FAISS\\nindex = faiss.IndexFlatL2(embeddings.shape[1])  # L2 distance for vector similarity\\nindex.add(np.array(embeddings))\\n\\n# Save the index for later use\\nfaiss.write_index(index, \"faiss_index.index\")\\n'"
      ]
     },
     "execution_count": 33,
     "metadata": {},
     "output_type": "execute_result"
    }
   ],
   "source": [
    "'''\n",
    "model = SentenceTransformer('all-MiniLM-L6-v2')\n",
    "# Create embeddings for the chunks\n",
    "embeddings = model.encode(chunks, convert_to_numpy=True)\n",
    "\n",
    "# Store embeddings in FAISS\n",
    "index = faiss.IndexFlatL2(embeddings.shape[1])  # L2 distance for vector similarity\n",
    "index.add(np.array(embeddings))\n",
    "\n",
    "# Save the index for later use\n",
    "faiss.write_index(index, \"faiss_index.index\")\n",
    "'''"
   ]
  },
  {
   "cell_type": "code",
   "execution_count": 115,
   "metadata": {},
   "outputs": [],
   "source": [
    "modelPath = \"sentence-transformers/all-MiniLM-l6-v2\"\n",
    "model_kwargs = {'device':'cpu'}\n",
    "encode_kwargs = {'normalize_embeddings': True}\n",
    "\n",
    "embeddings = HuggingFaceEmbeddings(\n",
    "                    model_name=modelPath, \n",
    "                    model_kwargs=model_kwargs, \n",
    "                    encode_kwargs=encode_kwargs \n",
    "                )"
   ]
  },
  {
   "cell_type": "code",
   "execution_count": 116,
   "metadata": {},
   "outputs": [],
   "source": [
    "vectorstore = FAISS.from_documents(chunks, embeddings)\n"
   ]
  },
  {
   "cell_type": "code",
   "execution_count": 117,
   "metadata": {},
   "outputs": [
    {
     "data": {
      "text/plain": [
       "75"
      ]
     },
     "execution_count": 117,
     "metadata": {},
     "output_type": "execute_result"
    }
   ],
   "source": [
    "vectorstore.index.ntotal"
   ]
  },
  {
   "cell_type": "code",
   "execution_count": 79,
   "metadata": {},
   "outputs": [],
   "source": [
    "# Save the vector store\n",
    "vectorstore.save_local(\"faiss_index\")"
   ]
  },
  {
   "cell_type": "code",
   "execution_count": 80,
   "metadata": {},
   "outputs": [],
   "source": [
    "query = \"Summarize the document\"\n",
    "docs = vectorstore.similarity_search(query, k=1)"
   ]
  },
  {
   "cell_type": "code",
   "execution_count": null,
   "metadata": {},
   "outputs": [],
   "source": []
  },
  {
   "cell_type": "code",
   "execution_count": 61,
   "metadata": {},
   "outputs": [
    {
     "data": {
      "text/plain": [
       "196"
      ]
     },
     "execution_count": 61,
     "metadata": {},
     "output_type": "execute_result"
    }
   ],
   "source": [
    "len(docs[0].page_content)"
   ]
  },
  {
   "cell_type": "code",
   "execution_count": 81,
   "metadata": {},
   "outputs": [
    {
     "data": {
      "text/plain": [
       "[Document(id='e0f8c47a-2bf8-497d-8f36-c6e6f2ee2942', metadata={'producer': 'Adobe PDF Library 7.0', 'creator': 'PyPDF', 'creationdate': '2007-01-15T15:29:22+00:00', 'moddate': '2008-03-03T11:28:12-08:00', 'rgid': 'PB:19364043_AS:101511233277955@1401213572478', 'source': 'data/SlamonetalSCIENCE1987.pdf', 'total_pages': 8, 'page': 5, 'page_label': '6'}, page_content='Table3.AssociationbetweenHER-2/neuamplificationanddiseaseparame-\\ntersincombinedsurveys(189patients).\\nFactor*Single2to5 5to20 >20 Total PtCOPY copiescopiescopies\\nHormnalreceptorstatus\\nER+ 91 23 14 2 130 0.05\\nER- 45 3 6 5 59\\nPgR+ 73 20 10 3 106 0.06\\nPgR- 63 6 10 4 83\\nTumorsize(centimetes)\\ns<2 31 9 4 0 44 0.19\\n2-5 62 13 7 2 84\\n>5 23 4 6 3 36\\nUnknown 20 0 3 2 25\\nAgeatdiagnosis(years)\\n<50 37 13 8 2 60 0.11\\n>50 88 13 10 5 116\\nUnknown 11 0 2 0 13\\nNumberofpositivelymphnodes\\n0 30 0 3 1 34 0.002\\n1-3 51 7 6 1 65')]"
      ]
     },
     "execution_count": 81,
     "metadata": {},
     "output_type": "execute_result"
    }
   ],
   "source": [
    "docs"
   ]
  },
  {
   "cell_type": "code",
   "execution_count": null,
   "metadata": {},
   "outputs": [],
   "source": [
    "'''\n",
    "# Define the local path to the Llama2 model download\n",
    "model_path = \"llama-2-7b-chat.Q6_K.gguf\"\n",
    "# Load LLaMA 2 7B GGUF model on CPU\n",
    "llm = AutoModelForCausalLM.from_pretrained(\n",
    "    model_path,\n",
    "    model_type=\"llama\",\n",
    "    gpu_layers=0  # Set 0 to run on CPU\n",
    ")\n",
    "'''"
   ]
  },
  {
   "cell_type": "code",
   "execution_count": 109,
   "metadata": {},
   "outputs": [
    {
     "name": "stderr",
     "output_type": "stream",
     "text": [
      "AVX = 1 | AVX_VNNI = 0 | AVX2 = 1 | AVX512 = 0 | AVX512_VBMI = 0 | AVX512_VNNI = 0 | FMA = 1 | NEON = 0 | ARM_FMA = 0 | F16C = 1 | FP16_VA = 0 | WASM_SIMD = 0 | BLAS = 0 | SSE3 = 1 | SSSE3 = 0 | VSX = 0 | \n"
     ]
    }
   ],
   "source": [
    "llm = Llama(\n",
    "    model_path=\"llama-2-7b-chat.Q6_K.gguf\",\n",
    "    n_threads=8,  # Use more CPU cores\n",
    "    n_batch=256,   # Increase batch size for faster inference\n",
    ")"
   ]
  },
  {
   "cell_type": "code",
   "execution_count": 123,
   "metadata": {},
   "outputs": [],
   "source": [
    "#query = \"How does HER-2/neu amplification correlate with survival?\"\n",
    "query = \"What percentage of tumors showed HER-2/neu amplification?\"\n",
    "# Search for semantically similar chunks and return the top 3 chunks\n",
    "search = vectorstore.similarity_search(query, k=3)\n",
    "\n",
    "system_message = '''\n",
    "                You are a medical assistant chatbot with answering questions about an research paper. \n",
    "                Use the given context to answer the question.\n",
    "                If you don't know the answer to a question, please don't share false information, just reply \"I don''t know.\"\n",
    "                '''\n",
    "prompt = '''\n",
    "[INST] <<SYS>>{system_message}<</SYS>>\n",
    "Context: {context}\n",
    "Question: {question}\n",
    "[/INST]\n",
    "'''\n",
    "\n",
    "\n",
    "# Create a prompt template\n",
    "prompt = PromptTemplate(input_variables=[\"system_message\", \"context\", \"question\"], template=prompt)\n",
    "\n",
    "# Format the final prompt with the query and search results\n",
    "final_prompt = prompt.format(system_message = system_message, question=query, context=search[0].page_content)"
   ]
  },
  {
   "cell_type": "code",
   "execution_count": 125,
   "metadata": {},
   "outputs": [
    {
     "name": "stderr",
     "output_type": "stream",
     "text": [
      "Llama.generate: prefix-match hit\n"
     ]
    },
    {
     "name": "stdout",
     "output_type": "stream",
     "text": [
      "According to the research paper you provided, there were 79 breast tumors analyzed in this study. The results show that 58% (46/89) of the tumors had HER-2/neu amplification, which means they had more than two copies of the gene. Therefore, the percentage of tumors that showed HER-2/neu amplification is 58%.\n"
     ]
    }
   ],
   "source": [
    "'''\n",
    "Parameter\tEffect\n",
    "max_tokens=4000\tLimits output length to 4000 tokens.\n",
    "temperature=0.2\tmakes responses more deterministic and focused.\n",
    "top_p=0.50\tSelects from top 50% probability mass (more deterministic).\n",
    "repeat_penalty=1.2\tReduces repetitive words/phrases.\n",
    "top_k=50\tOnly picks from top 50 tokens at each step (keeps focus).\n",
    "stop=['INST']\tStops generation if 'INST' appears.\n",
    "echo=False\tPrevents the prompt from being included in the response.\n",
    "'''\n",
    "response = llm(\n",
    "        prompt=final_prompt\n",
    "        max_tokens=4000,\n",
    "        temperature=0.3,\n",
    "        #top_p=0.50,\n",
    "        repeat_penalty=1.2,\n",
    "        top_k=50,\n",
    "        #stop=['INST'],\n",
    "        stop=['\\n\\n','[/INST]'],\n",
    "        echo=False\n",
    "    )\n",
    "\n",
    "# Extract and return the response text\n",
    "response_text = response[\"choices\"][0][\"text\"]\n",
    "print(response_text)"
   ]
  },
  {
   "cell_type": "code",
   "execution_count": null,
   "metadata": {},
   "outputs": [],
   "source": [
    "'''\n",
    "model_path = \"llama-2-7b-chat.Q4_K_M.gguf\"\n",
    "llm = CTransformers(model=model_path, model_type=\"llama\", gpu_layers=0, )  # Set 0 to run on CPU)\n",
    "'''"
   ]
  },
  {
   "cell_type": "code",
   "execution_count": null,
   "metadata": {},
   "outputs": [],
   "source": [
    "'''\n",
    "model_path = \"mistral-7b-instruct-v0.1.Q4_K_M.gguf\"\n",
    "llm = CTransformers(model=model_path, model_type=\"mistral\", gpu_layers=0, )  # Set 0 to run on CPU)\n",
    "'''"
   ]
  },
  {
   "cell_type": "code",
   "execution_count": 97,
   "metadata": {},
   "outputs": [
    {
     "ename": "SyntaxError",
     "evalue": "unterminated triple-quoted string literal (detected at line 35) (1350040607.py, line 26)",
     "output_type": "error",
     "traceback": [
      "\u001b[1;36m  Cell \u001b[1;32mIn[97], line 26\u001b[1;36m\u001b[0m\n\u001b[1;33m    '''\u001b[0m\n\u001b[1;37m    ^\u001b[0m\n\u001b[1;31mSyntaxError\u001b[0m\u001b[1;31m:\u001b[0m unterminated triple-quoted string literal (detected at line 35)\n"
     ]
    }
   ],
   "source": [
    "'''\n",
    "# Template for question-answer prompt\n",
    "template = \"\"\"Question: {question} \\n\\nAnswer:\"\"\"\n",
    "# Initialize prompt template and callback manager\n",
    "prompt = PromptTemplate(template=template, input_variables=[\"question\"])\n",
    "callback_manager = CallbackManager([StreamingStdOutCallbackHandler()])\n",
    "\n",
    "\n",
    "\n",
    "# Initialize LlamaCpp model\n",
    "#llm = LlamaCpp(model_path=model_path, temperature=0.5, max_tokens=4095, top_p=1, callback_manager=callback_manager, n_ctx=6000)\n",
    "# Create LLMChain\n",
    "#llm_chain = LLMChain(prompt=prompt, llm=llm)\n",
    "llm_chain = prompt | llm\n",
    "# Define a query to search the indexed documents\n",
    "query = \"Summarize the document.\"\n",
    "# Search for semantically similar chunks and return the top 3 chunks\n",
    "search = vectorstore.similarity_search(query, k=1)\n",
    "\n",
    "system_message = 'You are a medical assistant chatbot. Use the given context to answer the question.If the context is irrelevant, say \"I don''t know.\"'\n",
    "prompt = '''\n",
    "[INST] <<SYS>>{system_message}<</SYS>>\n",
    "Context: {context}\n",
    "Question: {question}\n",
    "[/INST]\n",
    "'''\n",
    "\n",
    "# Create a prompt template\n",
    "prompt = PromptTemplate(input_variables=[\"system_message\", \"context\", \"question\"], template=prompt)\n",
    "\n",
    "# Format the final prompt with the query and search results\n",
    "final_prompt = prompt.format(system_message = system_message, question=query, context=search[0].page_content)\n",
    "\n",
    "# Run LLMChain to generate an answer based on the context\n",
    "ans = llm_chain.invoke(final_prompt)\n",
    "'''"
   ]
  },
  {
   "cell_type": "code",
   "execution_count": 8,
   "metadata": {},
   "outputs": [
    {
     "name": "stdout",
     "output_type": "stream",
     "text": [
      "4\n",
      "Customer Satisfaction Score: 50.0%\n"
     ]
    }
   ],
   "source": [
    "# Connect to SQLite database\n",
    "import sqlite3\n",
    "conn = sqlite3.connect('qna_interactions.db')\n",
    "c = conn.cursor()\n",
    "\n",
    "# Fetch all interactions with thumbs ratings\n",
    "c.execute(\"SELECT thumbs FROM interactions\")\n",
    "rows = c.fetchall()\n",
    "\n",
    "# Calculate the satisfaction score\n",
    "thumbs_up_count = sum(1 for row in rows if row[0] == 'thumbs_up')\n",
    "thumbs_down_count = sum(1 for row in rows if row[0] == 'thumbs_down')\n",
    "total_responses = thumbs_up_count + thumbs_down_count\n",
    "print(total_responses)\n",
    "# Avoid division by zero\n",
    "if total_responses > 0:\n",
    "    satisfaction_score = (thumbs_up_count / total_responses) * 100\n",
    "else:\n",
    "    satisfaction_score = 0\n",
    "\n",
    "# Print the satisfaction score\n",
    "print(f\"Customer Satisfaction Score: {satisfaction_score}%\")\n",
    "\n",
    "conn.close()"
   ]
  }
 ],
 "metadata": {
  "kernelspec": {
   "display_name": "venv",
   "language": "python",
   "name": "python3"
  },
  "language_info": {
   "codemirror_mode": {
    "name": "ipython",
    "version": 3
   },
   "file_extension": ".py",
   "mimetype": "text/x-python",
   "name": "python",
   "nbconvert_exporter": "python",
   "pygments_lexer": "ipython3",
   "version": "3.12.4"
  }
 },
 "nbformat": 4,
 "nbformat_minor": 2
}
